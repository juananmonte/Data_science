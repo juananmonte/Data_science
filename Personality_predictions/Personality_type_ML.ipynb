{
 "cells": [
  {
   "cell_type": "markdown",
   "id": "valid-buffalo",
   "metadata": {},
   "source": [
    "# <span style=\"color:green\"> -------PERSONALITY SEGMENTATION---------- </span> "
   ]
  },
  {
   "cell_type": "code",
   "execution_count": 1,
   "id": "right-there",
   "metadata": {
    "ExecuteTime": {
     "end_time": "2021-03-02T09:35:46.724311Z",
     "start_time": "2021-03-02T09:35:45.639201Z"
    }
   },
   "outputs": [],
   "source": [
    "import numpy as np # linear algebra\n",
    "import seaborn as sns\n",
    "import matplotlib.pyplot as plt\n",
    "PW = 8\n",
    "PH = 6\n",
    "plt.rcParams['figure.figsize'] = (PW, PH) \n",
    "plt.rcParams['image.cmap'] = 'gray'\n",
    "\n",
    "import re\n",
    "import pandas as pd \n",
    "pd.options.display.max_rows = 250\n",
    "pd.options.display.max_columns = 500\n",
    "pd.options.display.max_colwidth = 500\n",
    "\n",
    "from nltk.tokenize import RegexpTokenizer #Natural Language Toolkit (NLTK) for natural language processing. \n",
    "from nltk.stem.snowball import SnowballStemmer\n",
    "import string \n",
    "import warnings"
   ]
  },
  {
   "cell_type": "markdown",
   "id": "knowing-penguin",
   "metadata": {},
   "source": [
    "## dataset\n",
    "#### https://www.kaggle.com/datasnaek/mbti-type"
   ]
  },
  {
   "cell_type": "code",
   "execution_count": 2,
   "id": "refined-multimedia",
   "metadata": {
    "ExecuteTime": {
     "end_time": "2021-03-02T09:35:47.579587Z",
     "start_time": "2021-03-02T09:35:46.726588Z"
    }
   },
   "outputs": [
    {
     "name": "stdout",
     "output_type": "stream",
     "text": [
      "number of users 8675\n"
     ]
    }
   ],
   "source": [
    "df = pd.read_csv(r\"C:\\Users\\MSI\\Desktop\\Data Science\\Python\\Projects\\personality\\mbti_1.csv\", encoding=\"utf-8\")\n",
    "print(\"number of users\", len(df))"
   ]
  },
  {
   "cell_type": "markdown",
   "id": "written-marks",
   "metadata": {},
   "source": [
    "## <span style=\"color:green\"> EDA </span>"
   ]
  },
  {
   "cell_type": "code",
   "execution_count": 3,
   "id": "acceptable-filter",
   "metadata": {
    "ExecuteTime": {
     "end_time": "2021-03-02T09:35:47.610587Z",
     "start_time": "2021-03-02T09:35:47.582586Z"
    }
   },
   "outputs": [
    {
     "data": {
      "text/html": [
       "<div>\n",
       "<style scoped>\n",
       "    .dataframe tbody tr th:only-of-type {\n",
       "        vertical-align: middle;\n",
       "    }\n",
       "\n",
       "    .dataframe tbody tr th {\n",
       "        vertical-align: top;\n",
       "    }\n",
       "\n",
       "    .dataframe thead th {\n",
       "        text-align: right;\n",
       "    }\n",
       "</style>\n",
       "<table border=\"1\" class=\"dataframe\">\n",
       "  <thead>\n",
       "    <tr style=\"text-align: right;\">\n",
       "      <th></th>\n",
       "      <th>type</th>\n",
       "      <th>posts</th>\n",
       "    </tr>\n",
       "  </thead>\n",
       "  <tbody>\n",
       "    <tr>\n",
       "      <th>0</th>\n",
       "      <td>INFJ</td>\n",
       "      <td>'http://www.youtube.com/watch?v=qsXHcwe3krw|||http://41.media.tumblr.com/tumblr_lfouy03PMA1qa1rooo1_500.jpg|||enfp and intj moments  https://www.youtube.com/watch?v=iz7lE1g4XM4  sportscenter not top ten plays  https://www.youtube.com/watch?v=uCdfze1etec  pranks|||What has been the most life-changing experience in your life?|||http://www.youtube.com/watch?v=vXZeYwwRDw8   http://www.youtube.com/watch?v=u8ejam5DP3E  On repeat for most of today.|||May the PerC Experience immerse you.|||The last ...</td>\n",
       "    </tr>\n",
       "    <tr>\n",
       "      <th>1</th>\n",
       "      <td>ENTP</td>\n",
       "      <td>'I'm finding the lack of me in these posts very alarming.|||Sex can be boring if it's in the same position often. For example me and my girlfriend are currently in an environment where we have to creatively use cowgirl and missionary. There isn't enough...|||Giving new meaning to 'Game' theory.|||Hello *ENTP Grin*  That's all it takes. Than we converse and they do most of the flirting while I acknowledge their presence and return their words with smooth wordplay and more cheeky grins.|||This...</td>\n",
       "    </tr>\n",
       "    <tr>\n",
       "      <th>2</th>\n",
       "      <td>INTP</td>\n",
       "      <td>'Good one  _____   https://www.youtube.com/watch?v=fHiGbolFFGw|||Of course, to which I say I know; that's my blessing and my curse.|||Does being absolutely positive that you and your best friend could be an amazing couple count? If so, than yes.   Or it's more I could be madly in love in case I reconciled my feelings (which at...|||No, I didn't; thank you for a link!|||So-called Ti-Si loop (and it can stem from any current topic/obsession) can be deadly. It's like when you're stuck in your o...</td>\n",
       "    </tr>\n",
       "    <tr>\n",
       "      <th>3</th>\n",
       "      <td>INTJ</td>\n",
       "      <td>'Dear INTP,   I enjoyed our conversation the other day.  Esoteric gabbing about the nature of the universe and the idea that every rule and social code being arbitrary constructs created...|||Dear ENTJ sub,   Long time no see.  Sincerely, Alpha|||None of them. All other types hurt in deep existential ways that I want no part of.|||Probably a sliding scale that depends on individual preferences, like everything in humanity.|||Draco Malfoy also. I'd say he's either 358 or 368.|||I'm either 358...</td>\n",
       "    </tr>\n",
       "    <tr>\n",
       "      <th>4</th>\n",
       "      <td>ENTJ</td>\n",
       "      <td>'You're fired.|||That's another silly misconception. That approaching is logically is going to be the key to unlocking whatever it is you think you are entitled to.   Nobody wants to be approached with BS...|||But guys... he REALLY wants to go on a super-duper-long-ass vacation. C'mon guys. His boss just doesn't listen or get it. He even approached him logically and everything.|||Never mind. Just go on permanent vacation.|||Two months? I wouldn't be crazy about the idea. If you are really hi...</td>\n",
       "    </tr>\n",
       "    <tr>\n",
       "      <th>5</th>\n",
       "      <td>INTJ</td>\n",
       "      <td>'18/37 @.@|||Science  is not perfect. No scientist claims that it is, or that scientific  information will not be revised as we discover new things.  Rational  thinking has been very useful to our society....|||INFP- Edgar Allen Poe was an INFP and he's in your siggy.|||People see the obvious Fi and are quick to put her as INFP. I agree that she has no Ne. I see her as an ISFP. Compare her to Haku (definite INFP). She is flat through most of Naruto.. but I don't...|||Lets get this party star...</td>\n",
       "    </tr>\n",
       "    <tr>\n",
       "      <th>6</th>\n",
       "      <td>INFJ</td>\n",
       "      <td>'No, I can't draw on my own nails (haha). Those were done by professionals on my nails. And yes, those are all gel.  You mean those you posted were done by yourself on your own nails? Awesome!|||Probably the Electronic Screen Syndrome. With the advent of technology and social media, we all suffer from overstimulation on a daily basis. I'm guilty as well. In the past, I can be happy just...|||I love nail arts too! These are some of mine:  718282 718290 718298 718306 718314|||This is the first...</td>\n",
       "    </tr>\n",
       "    <tr>\n",
       "      <th>7</th>\n",
       "      <td>INTJ</td>\n",
       "      <td>'I tend to build up a collection of things on my desktop that i use frequently and then move them into a folder called  'Everything' from there it get sorted into type and sub type|||i ike to collect odd objects, even at work...a lot of people would call it junk but i like to collect it.  Old unused software? ill take that off your hands :) i have a bunch of old adobe...|||i think its quite normal, i tend to only see my friends in real life every couple of months, as said earlier some people...</td>\n",
       "    </tr>\n",
       "    <tr>\n",
       "      <th>8</th>\n",
       "      <td>INFJ</td>\n",
       "      <td>I'm not sure, that's a good question. The distinction between the two is so dependant on perception. To quote Robb Flynn, ''The hate you feel is nothing more, than love you feel to win this war.''|||Good question! It's tough to say for sure but I loved Winona Ryder as Lydia in Beetlejuice...  http://i63.photobucket.com/albums/h158/trinsghost/Misc-Images/2921aa070866f20450f8e1160b1e5d41.jpg|||https://www.youtube.com/watch?v=r5If816MhoU|||https://www.youtube.com/watch?v=Q-sQklvpDhA|||I've been...</td>\n",
       "    </tr>\n",
       "    <tr>\n",
       "      <th>9</th>\n",
       "      <td>INTP</td>\n",
       "      <td>'https://www.youtube.com/watch?v=w8-egj0y8Qs|||I'm in this position where I have to actually let go of the person, due to a various reasons. Unfortunately I'm having trouble mustering enough strength to actually pull through it. Sometimes,...|||WHAT A YEAR, MAN. WHAT A YEAR.   I am just utterly bewildered with my 20s at this point.|||my laundry. as long as i've got clothes left to wear i'm fine.  and then the time comes that i DO run out, and i'm left to contend with The Mountain that is my ...</td>\n",
       "    </tr>\n",
       "  </tbody>\n",
       "</table>\n",
       "</div>"
      ],
      "text/plain": [
       "   type  \\\n",
       "0  INFJ   \n",
       "1  ENTP   \n",
       "2  INTP   \n",
       "3  INTJ   \n",
       "4  ENTJ   \n",
       "5  INTJ   \n",
       "6  INFJ   \n",
       "7  INTJ   \n",
       "8  INFJ   \n",
       "9  INTP   \n",
       "\n",
       "                                                                                                                                                                                                                                                                                                                                                                                                                                                                                                                 posts  \n",
       "0  'http://www.youtube.com/watch?v=qsXHcwe3krw|||http://41.media.tumblr.com/tumblr_lfouy03PMA1qa1rooo1_500.jpg|||enfp and intj moments  https://www.youtube.com/watch?v=iz7lE1g4XM4  sportscenter not top ten plays  https://www.youtube.com/watch?v=uCdfze1etec  pranks|||What has been the most life-changing experience in your life?|||http://www.youtube.com/watch?v=vXZeYwwRDw8   http://www.youtube.com/watch?v=u8ejam5DP3E  On repeat for most of today.|||May the PerC Experience immerse you.|||The last ...  \n",
       "1  'I'm finding the lack of me in these posts very alarming.|||Sex can be boring if it's in the same position often. For example me and my girlfriend are currently in an environment where we have to creatively use cowgirl and missionary. There isn't enough...|||Giving new meaning to 'Game' theory.|||Hello *ENTP Grin*  That's all it takes. Than we converse and they do most of the flirting while I acknowledge their presence and return their words with smooth wordplay and more cheeky grins.|||This...  \n",
       "2  'Good one  _____   https://www.youtube.com/watch?v=fHiGbolFFGw|||Of course, to which I say I know; that's my blessing and my curse.|||Does being absolutely positive that you and your best friend could be an amazing couple count? If so, than yes.   Or it's more I could be madly in love in case I reconciled my feelings (which at...|||No, I didn't; thank you for a link!|||So-called Ti-Si loop (and it can stem from any current topic/obsession) can be deadly. It's like when you're stuck in your o...  \n",
       "3  'Dear INTP,   I enjoyed our conversation the other day.  Esoteric gabbing about the nature of the universe and the idea that every rule and social code being arbitrary constructs created...|||Dear ENTJ sub,   Long time no see.  Sincerely, Alpha|||None of them. All other types hurt in deep existential ways that I want no part of.|||Probably a sliding scale that depends on individual preferences, like everything in humanity.|||Draco Malfoy also. I'd say he's either 358 or 368.|||I'm either 358...  \n",
       "4  'You're fired.|||That's another silly misconception. That approaching is logically is going to be the key to unlocking whatever it is you think you are entitled to.   Nobody wants to be approached with BS...|||But guys... he REALLY wants to go on a super-duper-long-ass vacation. C'mon guys. His boss just doesn't listen or get it. He even approached him logically and everything.|||Never mind. Just go on permanent vacation.|||Two months? I wouldn't be crazy about the idea. If you are really hi...  \n",
       "5  '18/37 @.@|||Science  is not perfect. No scientist claims that it is, or that scientific  information will not be revised as we discover new things.  Rational  thinking has been very useful to our society....|||INFP- Edgar Allen Poe was an INFP and he's in your siggy.|||People see the obvious Fi and are quick to put her as INFP. I agree that she has no Ne. I see her as an ISFP. Compare her to Haku (definite INFP). She is flat through most of Naruto.. but I don't...|||Lets get this party star...  \n",
       "6  'No, I can't draw on my own nails (haha). Those were done by professionals on my nails. And yes, those are all gel.  You mean those you posted were done by yourself on your own nails? Awesome!|||Probably the Electronic Screen Syndrome. With the advent of technology and social media, we all suffer from overstimulation on a daily basis. I'm guilty as well. In the past, I can be happy just...|||I love nail arts too! These are some of mine:  718282 718290 718298 718306 718314|||This is the first...  \n",
       "7  'I tend to build up a collection of things on my desktop that i use frequently and then move them into a folder called  'Everything' from there it get sorted into type and sub type|||i ike to collect odd objects, even at work...a lot of people would call it junk but i like to collect it.  Old unused software? ill take that off your hands :) i have a bunch of old adobe...|||i think its quite normal, i tend to only see my friends in real life every couple of months, as said earlier some people...  \n",
       "8  I'm not sure, that's a good question. The distinction between the two is so dependant on perception. To quote Robb Flynn, ''The hate you feel is nothing more, than love you feel to win this war.''|||Good question! It's tough to say for sure but I loved Winona Ryder as Lydia in Beetlejuice...  http://i63.photobucket.com/albums/h158/trinsghost/Misc-Images/2921aa070866f20450f8e1160b1e5d41.jpg|||https://www.youtube.com/watch?v=r5If816MhoU|||https://www.youtube.com/watch?v=Q-sQklvpDhA|||I've been...  \n",
       "9  'https://www.youtube.com/watch?v=w8-egj0y8Qs|||I'm in this position where I have to actually let go of the person, due to a various reasons. Unfortunately I'm having trouble mustering enough strength to actually pull through it. Sometimes,...|||WHAT A YEAR, MAN. WHAT A YEAR.   I am just utterly bewildered with my 20s at this point.|||my laundry. as long as i've got clothes left to wear i'm fine.  and then the time comes that i DO run out, and i'm left to contend with The Mountain that is my ...  "
      ]
     },
     "execution_count": 3,
     "metadata": {},
     "output_type": "execute_result"
    }
   ],
   "source": [
    "df.head(10)"
   ]
  },
  {
   "cell_type": "code",
   "execution_count": 4,
   "id": "light-perception",
   "metadata": {
    "ExecuteTime": {
     "end_time": "2021-03-02T09:35:47.626586Z",
     "start_time": "2021-03-02T09:35:47.613588Z"
    }
   },
   "outputs": [
    {
     "data": {
      "text/plain": [
       "Index(['type', 'posts'], dtype='object')"
      ]
     },
     "execution_count": 4,
     "metadata": {},
     "output_type": "execute_result"
    }
   ],
   "source": [
    "df.columns"
   ]
  },
  {
   "cell_type": "code",
   "execution_count": 5,
   "id": "forty-bouquet",
   "metadata": {
    "ExecuteTime": {
     "end_time": "2021-03-02T09:35:47.642588Z",
     "start_time": "2021-03-02T09:35:47.627586Z"
    }
   },
   "outputs": [],
   "source": [
    "#Make the analysis easier by grouping the type of personalities and the number of post they have\n",
    "groups = df.groupby(\"type\").count()\n",
    "groups.sort_values(\"posts\", ascending= False, inplace=True)"
   ]
  },
  {
   "cell_type": "code",
   "execution_count": 6,
   "id": "bound-birmingham",
   "metadata": {
    "ExecuteTime": {
     "end_time": "2021-03-02T09:35:48.103585Z",
     "start_time": "2021-03-02T09:35:47.644587Z"
    }
   },
   "outputs": [
    {
     "ename": "ValueError",
     "evalue": "too many values to unpack (expected 2)",
     "output_type": "error",
     "traceback": [
      "\u001b[1;31m---------------------------------------------------------------------------\u001b[0m",
      "\u001b[1;31mValueError\u001b[0m                                Traceback (most recent call last)",
      "\u001b[1;32m<ipython-input-6-f59a287fb2d9>\u001b[0m in \u001b[0;36m<module>\u001b[1;34m\u001b[0m\n\u001b[0;32m      4\u001b[0m                     )\n\u001b[0;32m      5\u001b[0m \u001b[0mplt\u001b[0m\u001b[1;33m.\u001b[0m\u001b[0mtitle\u001b[0m\u001b[1;33m(\u001b[0m\u001b[1;34m\"Amount of post by personality\"\u001b[0m\u001b[1;33m,\u001b[0m \u001b[0mfontsize\u001b[0m \u001b[1;33m=\u001b[0m \u001b[1;36m20\u001b[0m\u001b[1;33m)\u001b[0m\u001b[1;33m\u001b[0m\u001b[1;33m\u001b[0m\u001b[0m\n\u001b[1;32m----> 6\u001b[1;33m \u001b[0mplt\u001b[0m\u001b[1;33m.\u001b[0m\u001b[0mylim\u001b[0m\u001b[1;33m(\u001b[0m\u001b[1;34m'personality'\u001b[0m\u001b[1;33m)\u001b[0m\u001b[1;33m\u001b[0m\u001b[1;33m\u001b[0m\u001b[0m\n\u001b[0m\u001b[0;32m      7\u001b[0m \u001b[1;31m#The majority of post come from the INFP personality\u001b[0m\u001b[1;33m\u001b[0m\u001b[1;33m\u001b[0m\u001b[1;33m\u001b[0m\u001b[0m\n",
      "\u001b[1;32m~\\anaconda3\\envs\\tensorflow\\lib\\site-packages\\matplotlib\\pyplot.py\u001b[0m in \u001b[0;36mylim\u001b[1;34m(*args, **kwargs)\u001b[0m\n\u001b[0;32m   1584\u001b[0m     \u001b[1;32mif\u001b[0m \u001b[1;32mnot\u001b[0m \u001b[0margs\u001b[0m \u001b[1;32mand\u001b[0m \u001b[1;32mnot\u001b[0m \u001b[0mkwargs\u001b[0m\u001b[1;33m:\u001b[0m\u001b[1;33m\u001b[0m\u001b[1;33m\u001b[0m\u001b[0m\n\u001b[0;32m   1585\u001b[0m         \u001b[1;32mreturn\u001b[0m \u001b[0max\u001b[0m\u001b[1;33m.\u001b[0m\u001b[0mget_ylim\u001b[0m\u001b[1;33m(\u001b[0m\u001b[1;33m)\u001b[0m\u001b[1;33m\u001b[0m\u001b[1;33m\u001b[0m\u001b[0m\n\u001b[1;32m-> 1586\u001b[1;33m     \u001b[0mret\u001b[0m \u001b[1;33m=\u001b[0m \u001b[0max\u001b[0m\u001b[1;33m.\u001b[0m\u001b[0mset_ylim\u001b[0m\u001b[1;33m(\u001b[0m\u001b[1;33m*\u001b[0m\u001b[0margs\u001b[0m\u001b[1;33m,\u001b[0m \u001b[1;33m**\u001b[0m\u001b[0mkwargs\u001b[0m\u001b[1;33m)\u001b[0m\u001b[1;33m\u001b[0m\u001b[1;33m\u001b[0m\u001b[0m\n\u001b[0m\u001b[0;32m   1587\u001b[0m     \u001b[1;32mreturn\u001b[0m \u001b[0mret\u001b[0m\u001b[1;33m\u001b[0m\u001b[1;33m\u001b[0m\u001b[0m\n\u001b[0;32m   1588\u001b[0m \u001b[1;33m\u001b[0m\u001b[0m\n",
      "\u001b[1;32m~\\anaconda3\\envs\\tensorflow\\lib\\site-packages\\matplotlib\\axes\\_base.py\u001b[0m in \u001b[0;36mset_ylim\u001b[1;34m(self, bottom, top, emit, auto, ymin, ymax)\u001b[0m\n\u001b[0;32m   3555\u001b[0m         \"\"\"\n\u001b[0;32m   3556\u001b[0m         \u001b[1;32mif\u001b[0m \u001b[0mtop\u001b[0m \u001b[1;32mis\u001b[0m \u001b[1;32mNone\u001b[0m \u001b[1;32mand\u001b[0m \u001b[0mnp\u001b[0m\u001b[1;33m.\u001b[0m\u001b[0miterable\u001b[0m\u001b[1;33m(\u001b[0m\u001b[0mbottom\u001b[0m\u001b[1;33m)\u001b[0m\u001b[1;33m:\u001b[0m\u001b[1;33m\u001b[0m\u001b[1;33m\u001b[0m\u001b[0m\n\u001b[1;32m-> 3557\u001b[1;33m             \u001b[0mbottom\u001b[0m\u001b[1;33m,\u001b[0m \u001b[0mtop\u001b[0m \u001b[1;33m=\u001b[0m \u001b[0mbottom\u001b[0m\u001b[1;33m\u001b[0m\u001b[1;33m\u001b[0m\u001b[0m\n\u001b[0m\u001b[0;32m   3558\u001b[0m         \u001b[1;32mif\u001b[0m \u001b[0mymin\u001b[0m \u001b[1;32mis\u001b[0m \u001b[1;32mnot\u001b[0m \u001b[1;32mNone\u001b[0m\u001b[1;33m:\u001b[0m\u001b[1;33m\u001b[0m\u001b[1;33m\u001b[0m\u001b[0m\n\u001b[0;32m   3559\u001b[0m             \u001b[1;32mif\u001b[0m \u001b[0mbottom\u001b[0m \u001b[1;32mis\u001b[0m \u001b[1;32mnot\u001b[0m \u001b[1;32mNone\u001b[0m\u001b[1;33m:\u001b[0m\u001b[1;33m\u001b[0m\u001b[1;33m\u001b[0m\u001b[0m\n",
      "\u001b[1;31mValueError\u001b[0m: too many values to unpack (expected 2)"
     ]
    },
    {
     "data": {
      "image/png": "[encoded data removed]",
      "text/plain": [
       "<Figure size 720x576 with 1 Axes>"
      ]
     },
     "metadata": {},
     "output_type": "display_data"
    }
   ],
   "source": [
    "#Quickly see this graphically \n",
    "groups['posts'].plot(kind = 'barh',\n",
    "                    figsize = (10, 8)\n",
    "                    )\n",
    "plt.title(\"Amount of post by personality\", fontsize = 20)\n",
    "plt.ylim('personality')\n",
    "#The majority of post come from the INFP personality"
   ]
  },
  {
   "cell_type": "code",
   "execution_count": 7,
   "id": "backed-taiwan",
   "metadata": {
    "ExecuteTime": {
     "end_time": "2021-03-02T09:35:57.092868Z",
     "start_time": "2021-03-02T09:35:57.076834Z"
    }
   },
   "outputs": [
    {
     "data": {
      "text/plain": [
       "type\n",
       "INFP    0.211182\n",
       "INFJ    0.169452\n",
       "INTP    0.150317\n",
       "INTJ    0.125764\n",
       "ENTP    0.078963\n",
       "ENFP    0.077810\n",
       "ISTP    0.038847\n",
       "ISFP    0.031239\n",
       "ENTJ    0.026628\n",
       "ISTJ    0.023631\n",
       "ENFJ    0.021902\n",
       "ISFJ    0.019135\n",
       "ESTP    0.010259\n",
       "ESFP    0.005533\n",
       "ESFJ    0.004841\n",
       "ESTJ    0.004496\n",
       "Name: posts, dtype: float64"
      ]
     },
     "execution_count": 7,
     "metadata": {},
     "output_type": "execute_result"
    }
   ],
   "source": [
    "#Obtain the proportion of each personality for Random Guessing Estimation\n",
    "proportion = groups['posts']/groups['posts'].sum()\n",
    "proportion"
   ]
  },
  {
   "cell_type": "code",
   "execution_count": 8,
   "id": "inside-merchant",
   "metadata": {
    "ExecuteTime": {
     "end_time": "2021-03-02T09:35:57.312339Z",
     "start_time": "2021-03-02T09:35:57.295338Z"
    }
   },
   "outputs": [],
   "source": [
    "#Length of the posts \n",
    "df['lenPre'] = df[\"posts\"].apply(len)"
   ]
  },
  {
   "cell_type": "code",
   "execution_count": 9,
   "id": "activated-reference",
   "metadata": {
    "ExecuteTime": {
     "end_time": "2021-03-02T09:35:57.758931Z",
     "start_time": "2021-03-02T09:35:57.485935Z"
    }
   },
   "outputs": [
    {
     "name": "stderr",
     "output_type": "stream",
     "text": [
      "C:\\Users\\MSI\\anaconda3\\envs\\tensorflow\\lib\\site-packages\\seaborn\\distributions.py:2551: FutureWarning: `distplot` is a deprecated function and will be removed in a future version. Please adapt your code to use either `displot` (a figure-level function with similar flexibility) or `histplot` (an axes-level function for histograms).\n",
      "  warnings.warn(msg, FutureWarning)\n"
     ]
    },
    {
     "data": {
      "text/plain": [
       "Text(0.5, 1.0, 'Distribution of Lengths of all 50 Posts')"
      ]
     },
     "execution_count": 9,
     "metadata": {},
     "output_type": "execute_result"
    },
    {
     "data": {
      "image/png": "[encoded data removed]",
      "text/plain": [
       "<Figure size 576x432 with 1 Axes>"
      ]
     },
     "metadata": {},
     "output_type": "display_data"
    }
   ],
   "source": [
    "#Another more, pretty way\n",
    "sns.distplot(df[\"lenPre\"]).set_title(\"Distribution of Lengths of all 50 Posts\")"
   ]
  },
  {
   "cell_type": "markdown",
   "id": "identical-council",
   "metadata": {},
   "source": [
    "## <span style=\"color:green\"> TEXT PREPROCESSING </span>"
   ]
  },
  {
   "cell_type": "code",
   "execution_count": 10,
   "id": "minute-purse",
   "metadata": {
    "ExecuteTime": {
     "end_time": "2021-03-02T09:35:57.851937Z",
     "start_time": "2021-03-02T09:35:57.840940Z"
    }
   },
   "outputs": [],
   "source": [
    "def preprocess_text(df, remove_special=True):\n",
    "    #Remove links \n",
    "    df[\"posts\"] = df[\"posts\"].apply(lambda x: re.sub(r'https?:\\/\\/.*?[\\s+]', '', x.replace(\"|\",\" \") + \" \"))\n",
    "    \n",
    "    #Keep EOS\n",
    "    df[\"posts\"] = df[\"posts\"].apply(lambda x: re.sub(r'\\.', ' EOSTokenDot ', x + \" \"))\n",
    "    df[\"posts\"] = df[\"posts\"].apply(lambda x: re.sub(r'\\?', ' EOSTokenQuest ', x + \" \"))\n",
    "    df[\"posts\"] = df[\"posts\"].apply(lambda x: re.sub(r'!', ' EOSTokenExs ', x + \" \"))\n",
    "    \n",
    "    #Strip Punctation\n",
    "    df[\"posts\"] = df[\"posts\"].apply(lambda x: re.sub(r'[^\\w\\s]','',x))\n",
    "\n",
    "    #Remove Non-words\n",
    "    df[\"posts\"] = df[\"posts\"].apply(lambda x: re.sub(r'[^a-zA-Z\\s]','',x))\n",
    "\n",
    "    #To lower\n",
    "    df[\"posts\"] = df[\"posts\"].apply(lambda x: x.lower())\n",
    "\n",
    "    #Remove multiple letter repating words\n",
    "    df[\"posts\"] = df[\"posts\"].apply(lambda x: re.sub(r'([a-z])\\1{2,}[\\s|\\w]*','',x)) \n",
    "\n",
    "    #Remove short/long words\n",
    "    df[\"posts\"] = df[\"posts\"].apply(lambda x: re.sub(r'(\\b\\w{0,3})?\\b','',x)) \n",
    "    df[\"posts\"] = df[\"posts\"].apply(lambda x: re.sub(r'(\\b\\w{30,1000})?\\b','',x))\n",
    "\n",
    "    #Remove Personality Types Words\n",
    "    #This is crutial in order to get valid model accuracy estimation for unseen data. \n",
    "    if remove_special:\n",
    "        pers_types = ['INFP' ,'INFJ', 'INTP', 'INTJ', 'ENTP', 'ENFP', 'ISTP' ,'ISFP' ,'ENTJ', 'ISTJ','ENFJ', 'ISFJ' ,'ESTP', 'ESFP' ,'ESFJ' ,'ESTJ']\n",
    "        pers_types = [p.lower() for p in pers_types]\n",
    "        p = re.compile(\"(\" + \"|\".join(pers_types) + \")\")\n",
    "\n",
    "    df[\"posts\"] = df[\"posts\"].apply(lambda x: p.sub(' PTypeToken ',x))\n",
    "    return df"
   ]
  },
  {
   "cell_type": "code",
   "execution_count": 11,
   "id": "olympic-latex",
   "metadata": {
    "ExecuteTime": {
     "end_time": "2021-03-02T09:35:58.169934Z",
     "start_time": "2021-03-02T09:35:58.150933Z"
    }
   },
   "outputs": [],
   "source": [
    "#Used for class balancing. When class balancing is used dataset becomes very small.\n",
    "def subsample(df):\n",
    "    groups = df.groupby(\"type\").count()\n",
    "    groups.sort_values(\"posts\", ascending=False, inplace=True)\n",
    "    \n",
    "    min_num = groups[\"posts\"][-1]\n",
    "    min_ind = groups.index[-1]\n",
    "    ndf = df[df[\"type\"] == min_ind]\n",
    "\n",
    "    for pt in groups.index[:-1]:\n",
    "        print(min_num,pt)\n",
    "        tdf = df[df[\"type\"] == pt].sample(min_num)\n",
    "        ndf = pd.concat([ndf, tdf])\n",
    "    return ndf"
   ]
  },
  {
   "cell_type": "markdown",
   "id": "comic-browse",
   "metadata": {},
   "source": [
    "##### With the regex functions defined,  is necessary to modify the text"
   ]
  },
  {
   "cell_type": "code",
   "execution_count": 12,
   "id": "timely-variance",
   "metadata": {
    "ExecuteTime": {
     "end_time": "2021-03-02T09:35:58.611970Z",
     "start_time": "2021-03-02T09:35:58.307939Z"
    }
   },
   "outputs": [
    {
     "name": "stderr",
     "output_type": "stream",
     "text": [
      "C:\\Users\\MSI\\anaconda3\\envs\\tensorflow\\lib\\site-packages\\seaborn\\distributions.py:2551: FutureWarning: `distplot` is a deprecated function and will be removed in a future version. Please adapt your code to use either `displot` (a figure-level function with similar flexibility) or `histplot` (an axes-level function for histograms).\n",
      "  warnings.warn(msg, FutureWarning)\n"
     ]
    },
    {
     "data": {
      "text/plain": [
       "Text(0.5, 1.0, 'Number of Posts per User')"
      ]
     },
     "execution_count": 12,
     "metadata": {},
     "output_type": "execute_result"
    },
    {
     "data": {
      "image/png": "[encoded data removed]",
      "text/plain": [
       "<Figure size 576x432 with 1 Axes>"
      ]
     },
     "metadata": {},
     "output_type": "display_data"
    }
   ],
   "source": [
    "#Number of Posts per User\n",
    "df[\"NumPosts\"] = df[\"posts\"].apply(lambda x: len(x.split(\"|||\")))\n",
    "\n",
    "sns.distplot(df[\"NumPosts\"], kde=False).set_title(\"Number of Posts per User\")"
   ]
  },
  {
   "cell_type": "code",
   "execution_count": 13,
   "id": "stylish-scientist",
   "metadata": {
    "ExecuteTime": {
     "end_time": "2021-03-02T09:36:00.089936Z",
     "start_time": "2021-03-02T09:35:58.613934Z"
    }
   },
   "outputs": [
    {
     "name": "stdout",
     "output_type": "stream",
     "text": [
      "Number of users 8675\n",
      "Number of posts 422845\n"
     ]
    }
   ],
   "source": [
    "#Split to posts\n",
    "def extract(posts, new_posts):\n",
    "    for post in posts[1].split(\"|||\"):\n",
    "        new_posts.append((posts[0], post))\n",
    "\n",
    "posts = []\n",
    "df.apply(lambda x: extract(x, posts), axis=1)\n",
    "print(\"Number of users\", len(df))\n",
    "print(\"Number of posts\", len(posts))\n",
    "\n",
    "df = pd.DataFrame(posts, columns=[\"type\", \"posts\"])"
   ]
  },
  {
   "cell_type": "code",
   "execution_count": 14,
   "id": "uniform-religion",
   "metadata": {
    "ExecuteTime": {
     "end_time": "2021-03-02T09:36:00.104936Z",
     "start_time": "2021-03-02T09:36:00.092966Z"
    }
   },
   "outputs": [
    {
     "data": {
      "text/html": [
       "<div>\n",
       "<style scoped>\n",
       "    .dataframe tbody tr th:only-of-type {\n",
       "        vertical-align: middle;\n",
       "    }\n",
       "\n",
       "    .dataframe tbody tr th {\n",
       "        vertical-align: top;\n",
       "    }\n",
       "\n",
       "    .dataframe thead th {\n",
       "        text-align: right;\n",
       "    }\n",
       "</style>\n",
       "<table border=\"1\" class=\"dataframe\">\n",
       "  <thead>\n",
       "    <tr style=\"text-align: right;\">\n",
       "      <th></th>\n",
       "      <th>type</th>\n",
       "      <th>posts</th>\n",
       "    </tr>\n",
       "  </thead>\n",
       "  <tbody>\n",
       "    <tr>\n",
       "      <th>0</th>\n",
       "      <td>INFJ</td>\n",
       "      <td>'http://www.youtube.com/watch?v=qsXHcwe3krw</td>\n",
       "    </tr>\n",
       "    <tr>\n",
       "      <th>1</th>\n",
       "      <td>INFJ</td>\n",
       "      <td>http://41.media.tumblr.com/tumblr_lfouy03PMA1qa1rooo1_500.jpg</td>\n",
       "    </tr>\n",
       "    <tr>\n",
       "      <th>2</th>\n",
       "      <td>INFJ</td>\n",
       "      <td>enfp and intj moments  https://www.youtube.com/watch?v=iz7lE1g4XM4  sportscenter not top ten plays  https://www.youtube.com/watch?v=uCdfze1etec  pranks</td>\n",
       "    </tr>\n",
       "    <tr>\n",
       "      <th>3</th>\n",
       "      <td>INFJ</td>\n",
       "      <td>What has been the most life-changing experience in your life?</td>\n",
       "    </tr>\n",
       "    <tr>\n",
       "      <th>4</th>\n",
       "      <td>INFJ</td>\n",
       "      <td>http://www.youtube.com/watch?v=vXZeYwwRDw8   http://www.youtube.com/watch?v=u8ejam5DP3E  On repeat for most of today.</td>\n",
       "    </tr>\n",
       "  </tbody>\n",
       "</table>\n",
       "</div>"
      ],
      "text/plain": [
       "   type  \\\n",
       "0  INFJ   \n",
       "1  INFJ   \n",
       "2  INFJ   \n",
       "3  INFJ   \n",
       "4  INFJ   \n",
       "\n",
       "                                                                                                                                                     posts  \n",
       "0                                                                                                              'http://www.youtube.com/watch?v=qsXHcwe3krw  \n",
       "1                                                                                            http://41.media.tumblr.com/tumblr_lfouy03PMA1qa1rooo1_500.jpg  \n",
       "2  enfp and intj moments  https://www.youtube.com/watch?v=iz7lE1g4XM4  sportscenter not top ten plays  https://www.youtube.com/watch?v=uCdfze1etec  pranks  \n",
       "3                                                                                            What has been the most life-changing experience in your life?  \n",
       "4                                    http://www.youtube.com/watch?v=vXZeYwwRDw8   http://www.youtube.com/watch?v=u8ejam5DP3E  On repeat for most of today.  "
      ]
     },
     "execution_count": 14,
     "metadata": {},
     "output_type": "execute_result"
    }
   ],
   "source": [
    "df.head()"
   ]
  },
  {
   "cell_type": "code",
   "execution_count": 15,
   "id": "ideal-bankruptcy",
   "metadata": {
    "ExecuteTime": {
     "end_time": "2021-03-02T09:36:02.136608Z",
     "start_time": "2021-03-02T09:36:00.107967Z"
    }
   },
   "outputs": [
    {
     "name": "stderr",
     "output_type": "stream",
     "text": [
      "C:\\Users\\MSI\\anaconda3\\envs\\tensorflow\\lib\\site-packages\\seaborn\\distributions.py:2551: FutureWarning: `distplot` is a deprecated function and will be removed in a future version. Please adapt your code to use either `displot` (a figure-level function with similar flexibility) or `histplot` (an axes-level function for histograms).\n",
      "  warnings.warn(msg, FutureWarning)\n"
     ]
    },
    {
     "data": {
      "image/png": "[encoded data removed]",
      "text/plain": [
       "<Figure size 576x432 with 1 Axes>"
      ]
     },
     "metadata": {},
     "output_type": "display_data"
    }
   ],
   "source": [
    "df[\"Len\"] = df[\"posts\"].apply(len)\n",
    "sns.distplot(df[\"Len\"]).set_title(\"Post lengths\");"
   ]
  },
  {
   "cell_type": "code",
   "execution_count": 16,
   "id": "accomplished-throat",
   "metadata": {
    "ExecuteTime": {
     "end_time": "2021-03-02T09:36:45.742609Z",
     "start_time": "2021-03-02T09:36:02.138602Z"
    }
   },
   "outputs": [],
   "source": [
    "#preprocessed text\n",
    "df = preprocess_text(df)"
   ]
  },
  {
   "cell_type": "code",
   "execution_count": 17,
   "id": "cleared-pleasure",
   "metadata": {
    "ExecuteTime": {
     "end_time": "2021-03-02T09:36:49.673693Z",
     "start_time": "2021-03-02T09:36:45.744602Z"
    }
   },
   "outputs": [
    {
     "name": "stderr",
     "output_type": "stream",
     "text": [
      "C:\\Users\\MSI\\anaconda3\\envs\\tensorflow\\lib\\site-packages\\seaborn\\distributions.py:2551: FutureWarning: `distplot` is a deprecated function and will be removed in a future version. Please adapt your code to use either `displot` (a figure-level function with similar flexibility) or `histplot` (an axes-level function for histograms).\n",
      "  warnings.warn(msg, FutureWarning)\n"
     ]
    },
    {
     "data": {
      "text/plain": [
       "Text(0.5, 1.0, 'Post lengths')"
      ]
     },
     "execution_count": 17,
     "metadata": {},
     "output_type": "execute_result"
    },
    {
     "data": {
      "image/png": "[encoded data removed]",
      "text/plain": [
       "<Figure size 576x432 with 1 Axes>"
      ]
     },
     "metadata": {},
     "output_type": "display_data"
    }
   ],
   "source": [
    "df['len'] = df['posts'].apply(len)\n",
    "sns.distplot(df['len']).set_title(\"Post lengths\")"
   ]
  },
  {
   "cell_type": "code",
   "execution_count": 18,
   "id": "saved-insight",
   "metadata": {
    "ExecuteTime": {
     "end_time": "2021-03-02T09:36:53.164604Z",
     "start_time": "2021-03-02T09:36:49.677601Z"
    }
   },
   "outputs": [
    {
     "name": "stdout",
     "output_type": "stream",
     "text": [
      "Number of posts 422845\n",
      "Number of posts 275034\n"
     ]
    }
   ],
   "source": [
    "#Remove posts with less than X words\n",
    "min_words = 15\n",
    "print(\"Number of posts\", len(df)) \n",
    "df[\"nw\"] = df[\"posts\"].apply(lambda x: len(re.findall(r'\\w+', x)))\n",
    "df = df[df[\"nw\"] >= min_words]\n",
    "print(\"Number of posts\", len(df))"
   ]
  },
  {
   "cell_type": "code",
   "execution_count": 19,
   "id": "sticky-transportation",
   "metadata": {
    "ExecuteTime": {
     "end_time": "2021-03-02T09:36:55.852635Z",
     "start_time": "2021-03-02T09:36:53.166602Z"
    }
   },
   "outputs": [
    {
     "name": "stderr",
     "output_type": "stream",
     "text": [
      "C:\\Users\\MSI\\anaconda3\\envs\\tensorflow\\lib\\site-packages\\seaborn\\distributions.py:2551: FutureWarning: `distplot` is a deprecated function and will be removed in a future version. Please adapt your code to use either `displot` (a figure-level function with similar flexibility) or `histplot` (an axes-level function for histograms).\n",
      "  warnings.warn(msg, FutureWarning)\n"
     ]
    },
    {
     "data": {
      "text/plain": [
       "Text(0.5, 1.0, 'Post lenght')"
      ]
     },
     "execution_count": 19,
     "metadata": {},
     "output_type": "execute_result"
    },
    {
     "data": {
      "image/png": "[encoded data removed]",
      "text/plain": [
       "<Figure size 576x432 with 1 Axes>"
      ]
     },
     "metadata": {},
     "output_type": "display_data"
    }
   ],
   "source": [
    "sns.distplot(df['len']).set_title(\"Post lenght\")"
   ]
  },
  {
   "cell_type": "code",
   "execution_count": 20,
   "id": "corresponding-registrar",
   "metadata": {
    "ExecuteTime": {
     "end_time": "2021-03-02T09:36:55.884601Z",
     "start_time": "2021-03-02T09:36:55.854603Z"
    }
   },
   "outputs": [],
   "source": [
    "#Drop nw Len\n",
    "df.drop([\"nw\", \"Len\"],axis=1, inplace=True)"
   ]
  },
  {
   "cell_type": "markdown",
   "id": "bound-cylinder",
   "metadata": {},
   "source": [
    "## <span style=\"color:green\"> WORD STEMMING </span> "
   ]
  },
  {
   "cell_type": "code",
   "execution_count": 21,
   "id": "handy-robertson",
   "metadata": {
    "ExecuteTime": {
     "end_time": "2021-03-02T09:38:56.808198Z",
     "start_time": "2021-03-02T09:36:55.887607Z"
    }
   },
   "outputs": [],
   "source": [
    "stemmer = SnowballStemmer(\"english\")\n",
    "df[\"posts\"] = df[\"posts\"].apply(lambda x: \" \".join(stemmer.stem(p) for p in x.split(\" \")))"
   ]
  },
  {
   "cell_type": "code",
   "execution_count": 22,
   "id": "outstanding-dairy",
   "metadata": {
    "ExecuteTime": {
     "end_time": "2021-03-02T09:38:56.840166Z",
     "start_time": "2021-03-02T09:38:56.811107Z"
    }
   },
   "outputs": [
    {
     "data": {
      "text/html": [
       "<div>\n",
       "<style scoped>\n",
       "    .dataframe tbody tr th:only-of-type {\n",
       "        vertical-align: middle;\n",
       "    }\n",
       "\n",
       "    .dataframe tbody tr th {\n",
       "        vertical-align: top;\n",
       "    }\n",
       "\n",
       "    .dataframe thead th {\n",
       "        text-align: right;\n",
       "    }\n",
       "</style>\n",
       "<table border=\"1\" class=\"dataframe\">\n",
       "  <thead>\n",
       "    <tr style=\"text-align: right;\">\n",
       "      <th></th>\n",
       "      <th>type</th>\n",
       "      <th>posts</th>\n",
       "      <th>len</th>\n",
       "    </tr>\n",
       "  </thead>\n",
       "  <tbody>\n",
       "    <tr>\n",
       "      <th>287492</th>\n",
       "      <td>ENFP</td>\n",
       "      <td>eostokenquest   must  kid right eostokenquest   eostokendot   experiment film cost under  with  prop    shoot  becaus    hire  free equip dure  univers cours eostokendot</td>\n",
       "      <td>193</td>\n",
       "    </tr>\n",
       "    <tr>\n",
       "      <th>203962</th>\n",
       "      <td>ISTJ</td>\n",
       "      <td>nice touch eostokendot  eostokendot  eostokendot    think  unedit version  probabl more    ptypetoken  motto which  teacher defin  eostokendot</td>\n",
       "      <td>156</td>\n",
       "    </tr>\n",
       "    <tr>\n",
       "      <th>146686</th>\n",
       "      <td>INFJ</td>\n",
       "      <td>this  where   start eostokendot   this point  need   creat your  lane eostokendot  howev there    part   that  addict  drama       without go  deep eostokendot   eostokendot  eostokendot  eostokendot</td>\n",
       "      <td>215</td>\n",
       "    </tr>\n",
       "    <tr>\n",
       "      <th>386316</th>\n",
       "      <td>ENTJ</td>\n",
       "      <td>there were also  ptypetoken        have seen  same stat   past eostokendot  doe  ptypetoken   make sens    eostokenquest  what would  look like  eostokenquest   like      focus  practic when   eostokendot  eostokendot  eostokendot</td>\n",
       "      <td>243</td>\n",
       "    </tr>\n",
       "    <tr>\n",
       "      <th>407440</th>\n",
       "      <td>ENTP</td>\n",
       "      <td>wonder about  would trityp work  someon  balanc wing  their enneagram type eostokendot   exampl     balanc  could  enneagram trityp  like this    eostokenquest    eostokendot  eostokendot  eostokendot</td>\n",
       "      <td>220</td>\n",
       "    </tr>\n",
       "    <tr>\n",
       "      <th>242473</th>\n",
       "      <td>INTJ</td>\n",
       "      <td>eostokendot   definit dont have  lifetim plan becaus mani   thing  want    never well happen   cant make them happen like get marri  have  famili chiefli  that  eostokendot  eostokendot  eostokendot</td>\n",
       "      <td>219</td>\n",
       "    </tr>\n",
       "    <tr>\n",
       "      <th>98691</th>\n",
       "      <td>ESFP</td>\n",
       "      <td>would rather  egoless peopl  easili control eostokendot     control  defens mechan  selfident eostokendot  which lead  set person boundari eostokendot    diminish  actual  cult eostokendot  eostokendot  eostokendot</td>\n",
       "      <td>247</td>\n",
       "    </tr>\n",
       "    <tr>\n",
       "      <th>283192</th>\n",
       "      <td>ENTP</td>\n",
       "      <td>nope eostokendot  eostokendot  eostokendot  introvert  ptypetoken    curious  know what about that  make  think    though eostokenquest</td>\n",
       "      <td>143</td>\n",
       "    </tr>\n",
       "    <tr>\n",
       "      <th>22890</th>\n",
       "      <td>INFP</td>\n",
       "      <td>irish  italian eostokendot    born  australia   irish famili came  australia from singapor  kept bit  piec  that cultur eostokendot   consid myself australian eostokendot   exream eostokendot  eostokendot  eostokendot</td>\n",
       "      <td>236</td>\n",
       "    </tr>\n",
       "    <tr>\n",
       "      <th>327697</th>\n",
       "      <td>INFJ</td>\n",
       "      <td>confid come  goe veri quick everi  eostokendot   hour   there full forc  then shaken  next eostokendot  determin great   audienc unfortun eostokendot   think   use  have both eostokendot  eostokendot  eostokendot</td>\n",
       "      <td>240</td>\n",
       "    </tr>\n",
       "  </tbody>\n",
       "</table>\n",
       "</div>"
      ],
      "text/plain": [
       "        type  \\\n",
       "287492  ENFP   \n",
       "203962  ISTJ   \n",
       "146686  INFJ   \n",
       "386316  ENTJ   \n",
       "407440  ENTP   \n",
       "242473  INTJ   \n",
       "98691   ESFP   \n",
       "283192  ENTP   \n",
       "22890   INFP   \n",
       "327697  INFJ   \n",
       "\n",
       "                                                                                                                                                                                                                                              posts  \\\n",
       "287492                                                               eostokenquest   must  kid right eostokenquest   eostokendot   experiment film cost under  with  prop    shoot  becaus    hire  free equip dure  univers cours eostokendot        \n",
       "203962                                                                                          nice touch eostokendot  eostokendot  eostokendot    think  unedit version  probabl more    ptypetoken  motto which  teacher defin  eostokendot        \n",
       "146686                                 this  where   start eostokendot   this point  need   creat your  lane eostokendot  howev there    part   that  addict  drama       without go  deep eostokendot   eostokendot  eostokendot  eostokendot        \n",
       "386316  there were also  ptypetoken        have seen  same stat   past eostokendot  doe  ptypetoken   make sens    eostokenquest  what would  look like  eostokenquest   like      focus  practic when   eostokendot  eostokendot  eostokendot        \n",
       "407440                                wonder about  would trityp work  someon  balanc wing  their enneagram type eostokendot   exampl     balanc  could  enneagram trityp  like this    eostokenquest    eostokendot  eostokendot  eostokendot        \n",
       "242473                                  eostokendot   definit dont have  lifetim plan becaus mani   thing  want    never well happen   cant make them happen like get marri  have  famili chiefli  that  eostokendot  eostokendot  eostokendot        \n",
       "98691                   would rather  egoless peopl  easili control eostokendot     control  defens mechan  selfident eostokendot  which lead  set person boundari eostokendot    diminish  actual  cult eostokendot  eostokendot  eostokendot        \n",
       "283192                                                                                                 nope eostokendot  eostokendot  eostokendot  introvert  ptypetoken    curious  know what about that  make  think    though eostokenquest        \n",
       "22890                irish  italian eostokendot    born  australia   irish famili came  australia from singapor  kept bit  piec  that cultur eostokendot   consid myself australian eostokendot   exream eostokendot  eostokendot  eostokendot        \n",
       "327697                    confid come  goe veri quick everi  eostokendot   hour   there full forc  then shaken  next eostokendot  determin great   audienc unfortun eostokendot   think   use  have both eostokendot  eostokendot  eostokendot        \n",
       "\n",
       "        len  \n",
       "287492  193  \n",
       "203962  156  \n",
       "146686  215  \n",
       "386316  243  \n",
       "407440  220  \n",
       "242473  219  \n",
       "98691   247  \n",
       "283192  143  \n",
       "22890   236  \n",
       "327697  240  "
      ]
     },
     "execution_count": 22,
     "metadata": {},
     "output_type": "execute_result"
    }
   ],
   "source": [
    "df.iloc[np.random.choice(len(df),10),:]"
   ]
  },
  {
   "cell_type": "markdown",
   "id": "southeast-header",
   "metadata": {},
   "source": [
    "## <span style=\"color:green\"> BAG OF WORDS </span>"
   ]
  },
  {
   "cell_type": "code",
   "execution_count": 23,
   "id": "stable-warehouse",
   "metadata": {
    "ExecuteTime": {
     "end_time": "2021-03-02T09:38:56.856166Z",
     "start_time": "2021-03-02T09:38:56.842139Z"
    }
   },
   "outputs": [],
   "source": [
    "from sklearn.feature_extraction.text import TfidfVectorizer, CountVectorizer\n",
    "from sklearn.preprocessing import LabelEncoder, RobustScaler\n",
    "from sklearn.model_selection import train_test_split\n",
    "from sklearn.naive_bayes import MultinomialNB"
   ]
  },
  {
   "cell_type": "code",
   "execution_count": 24,
   "id": "agricultural-princess",
   "metadata": {
    "ExecuteTime": {
     "end_time": "2021-03-02T09:39:03.688230Z",
     "start_time": "2021-03-02T09:38:56.858139Z"
    }
   },
   "outputs": [],
   "source": [
    "vect = CountVectorizer(stop_words='english') \n",
    "X =  vect.fit_transform(df[\"posts\"]) \n",
    "\n",
    "le = LabelEncoder()\n",
    "y = le.fit_transform(df[\"type\"])\n",
    "\n",
    "X_train, X_test, y_train, y_test = train_test_split(X, y, test_size=0.1, stratify=y, random_state=42)"
   ]
  },
  {
   "cell_type": "markdown",
   "id": "celtic-collective",
   "metadata": {},
   "source": [
    "## <span style=\"color:green\"> Word Lengths Disttribution </span>"
   ]
  },
  {
   "cell_type": "code",
   "execution_count": 25,
   "id": "japanese-singer",
   "metadata": {
    "ExecuteTime": {
     "end_time": "2021-03-02T09:39:03.990943Z",
     "start_time": "2021-03-02T09:39:03.690135Z"
    }
   },
   "outputs": [
    {
     "name": "stderr",
     "output_type": "stream",
     "text": [
      "C:\\Users\\MSI\\anaconda3\\envs\\tensorflow\\lib\\site-packages\\seaborn\\distributions.py:2551: FutureWarning: `distplot` is a deprecated function and will be removed in a future version. Please adapt your code to use either `displot` (a figure-level function with similar flexibility) or `histplot` (an axes-level function for histograms).\n",
      "  warnings.warn(msg, FutureWarning)\n"
     ]
    },
    {
     "data": {
      "image/png": "[encoded data removed]",
      "text/plain": [
       "<Figure size 576x432 with 1 Axes>"
      ]
     },
     "metadata": {},
     "output_type": "display_data"
    }
   ],
   "source": [
    "wdf = pd.DataFrame( vect.get_feature_names(),columns=[\"word\"])\n",
    "wdf[\"len\"] = wdf.word.apply(len)\n",
    "sns.distplot(wdf[\"len\"], kde=False).set_title(\"Words Lentghs Distribution\");"
   ]
  },
  {
   "cell_type": "markdown",
   "id": "written-delay",
   "metadata": {},
   "source": [
    "# <span style=\"color:green\"> Sequential Models </span>"
   ]
  },
  {
   "cell_type": "code",
   "execution_count": 26,
   "id": "shaped-legislature",
   "metadata": {
    "ExecuteTime": {
     "end_time": "2021-03-02T09:39:06.083908Z",
     "start_time": "2021-03-02T09:39:03.992910Z"
    }
   },
   "outputs": [
    {
     "name": "stderr",
     "output_type": "stream",
     "text": [
      "C:\\Users\\MSI\\anaconda3\\envs\\tensorflow\\lib\\site-packages\\tensorboard\\compat\\tensorflow_stub\\dtypes.py:541: FutureWarning: Passing (type, 1) or '1type' as a synonym of type is deprecated; in a future version of numpy, it will be understood as (type, (1,)) / '(1,)type'.\n",
      "  _np_qint8 = np.dtype([(\"qint8\", np.int8, 1)])\n",
      "C:\\Users\\MSI\\anaconda3\\envs\\tensorflow\\lib\\site-packages\\tensorboard\\compat\\tensorflow_stub\\dtypes.py:542: FutureWarning: Passing (type, 1) or '1type' as a synonym of type is deprecated; in a future version of numpy, it will be understood as (type, (1,)) / '(1,)type'.\n",
      "  _np_quint8 = np.dtype([(\"quint8\", np.uint8, 1)])\n",
      "C:\\Users\\MSI\\anaconda3\\envs\\tensorflow\\lib\\site-packages\\tensorboard\\compat\\tensorflow_stub\\dtypes.py:543: FutureWarning: Passing (type, 1) or '1type' as a synonym of type is deprecated; in a future version of numpy, it will be understood as (type, (1,)) / '(1,)type'.\n",
      "  _np_qint16 = np.dtype([(\"qint16\", np.int16, 1)])\n",
      "C:\\Users\\MSI\\anaconda3\\envs\\tensorflow\\lib\\site-packages\\tensorboard\\compat\\tensorflow_stub\\dtypes.py:544: FutureWarning: Passing (type, 1) or '1type' as a synonym of type is deprecated; in a future version of numpy, it will be understood as (type, (1,)) / '(1,)type'.\n",
      "  _np_quint16 = np.dtype([(\"quint16\", np.uint16, 1)])\n",
      "C:\\Users\\MSI\\anaconda3\\envs\\tensorflow\\lib\\site-packages\\tensorboard\\compat\\tensorflow_stub\\dtypes.py:545: FutureWarning: Passing (type, 1) or '1type' as a synonym of type is deprecated; in a future version of numpy, it will be understood as (type, (1,)) / '(1,)type'.\n",
      "  _np_qint32 = np.dtype([(\"qint32\", np.int32, 1)])\n",
      "C:\\Users\\MSI\\anaconda3\\envs\\tensorflow\\lib\\site-packages\\tensorboard\\compat\\tensorflow_stub\\dtypes.py:550: FutureWarning: Passing (type, 1) or '1type' as a synonym of type is deprecated; in a future version of numpy, it will be understood as (type, (1,)) / '(1,)type'.\n",
      "  np_resource = np.dtype([(\"resource\", np.ubyte, 1)])\n"
     ]
    }
   ],
   "source": [
    "from keras.preprocessing.text import Tokenizer\n",
    "from keras.preprocessing import sequence\n",
    "from keras.models import Sequential, Model\n",
    "from keras.layers import Dense,  Dropout, Flatten\n",
    "from keras.layers import LSTM, Conv1D, Input, MaxPooling1D\n",
    "from keras.layers.embeddings import Embedding\n",
    "from sklearn.preprocessing import OneHotEncoder\n",
    "\n",
    "from scipy import spatial\n",
    "from sklearn.utils import class_weight"
   ]
  },
  {
   "cell_type": "code",
   "execution_count": 42,
   "id": "stable-withdrawal",
   "metadata": {
    "ExecuteTime": {
     "end_time": "2021-03-02T09:54:29.004626Z",
     "start_time": "2021-03-02T09:54:28.998594Z"
    }
   },
   "outputs": [],
   "source": [
    "def cat_accu_seq(X_test, y_test, model):\n",
    "    yp_test = model.predict(X_test)\n",
    "    yp_test_d =  np.argmax(yp_test, axis=1)\n",
    "    y_test_d =  np.argmax(y_test, axis=1)\n",
    "    return  cat_accuracy(yp_test_d, y_test_d, le )"
   ]
  },
  {
   "cell_type": "code",
   "execution_count": 27,
   "id": "endangered-stable",
   "metadata": {
    "ExecuteTime": {
     "end_time": "2021-03-02T09:39:26.752874Z",
     "start_time": "2021-03-02T09:39:26.745904Z"
    }
   },
   "outputs": [],
   "source": [
    "def calc_weights(df, le, ohe):\n",
    "    groups = df.groupby(\"type\").count()\n",
    "    groups.sort_values(\"posts\", ascending=False, inplace=True)\n",
    "    \n",
    "    p = groups[\"posts\"]#.to_dict()\n",
    "    ohe.transform([[x] for x in le.transform(p.index.values)])"
   ]
  },
  {
   "cell_type": "code",
   "execution_count": 28,
   "id": "smart-cookie",
   "metadata": {
    "ExecuteTime": {
     "end_time": "2021-03-02T09:39:27.118322Z",
     "start_time": "2021-03-02T09:39:27.045322Z"
    }
   },
   "outputs": [],
   "source": [
    "X =  df.posts\n",
    "\n",
    "le = LabelEncoder()\n",
    "y = le.fit_transform(df[\"type\"])\n",
    "\n",
    "ohe = OneHotEncoder(categories='auto',  sparse=False)\n",
    "y = ohe.fit_transform(y.reshape(-1, 1))"
   ]
  },
  {
   "cell_type": "code",
   "execution_count": 29,
   "id": "following-spouse",
   "metadata": {
    "ExecuteTime": {
     "end_time": "2021-03-02T09:39:41.472843Z",
     "start_time": "2021-03-02T09:39:27.319751Z"
    }
   },
   "outputs": [
    {
     "name": "stdout",
     "output_type": "stream",
     "text": [
      "Found 77808 unique tokens.\n"
     ]
    }
   ],
   "source": [
    "#Tokenize words\n",
    "max_nb_words = 200000\n",
    "\n",
    "tokenizer = Tokenizer(num_words=max_nb_words)\n",
    "tokenizer.fit_on_texts(X)\n",
    "sequences = tokenizer.texts_to_sequences(X)\n",
    "word_index = tokenizer.word_index\n",
    "print('Found %s unique tokens.' % len(word_index))"
   ]
  },
  {
   "cell_type": "code",
   "execution_count": 30,
   "id": "velvet-chambers",
   "metadata": {
    "ExecuteTime": {
     "end_time": "2021-03-02T09:39:55.426097Z",
     "start_time": "2021-03-02T09:39:41.474750Z"
    }
   },
   "outputs": [],
   "source": [
    "#Retokenize\n",
    "max_nb_words = len(word_index)\n",
    "tokenizer = Tokenizer(num_words=max_nb_words)\n",
    "tokenizer.fit_on_texts(X)\n",
    "sequences = tokenizer.texts_to_sequences(X)\n",
    "word_index = tokenizer.word_index"
   ]
  },
  {
   "cell_type": "code",
   "execution_count": 31,
   "id": "valid-california",
   "metadata": {
    "ExecuteTime": {
     "end_time": "2021-03-02T09:39:55.488674Z",
     "start_time": "2021-03-02T09:39:55.428108Z"
    }
   },
   "outputs": [],
   "source": [
    "#Constants\n",
    "ptypes_num = 16\n",
    "max_post_len = np.max([ len(x) for x in sequences])"
   ]
  },
  {
   "cell_type": "code",
   "execution_count": 32,
   "id": "altered-playing",
   "metadata": {
    "ExecuteTime": {
     "end_time": "2021-03-02T09:39:57.186674Z",
     "start_time": "2021-03-02T09:39:55.490590Z"
    }
   },
   "outputs": [],
   "source": [
    "#Pad Sequence\n",
    "sequences = sequence.pad_sequences(sequences, maxlen=max_post_len) "
   ]
  },
  {
   "cell_type": "code",
   "execution_count": 33,
   "id": "independent-federation",
   "metadata": {
    "ExecuteTime": {
     "end_time": "2021-03-02T09:40:01.266672Z",
     "start_time": "2021-03-02T09:39:57.188585Z"
    }
   },
   "outputs": [],
   "source": [
    "#Split train and test set again, since que tokenized the values\n",
    "X_train, X_test, y_train, y_test = train_test_split(sequences, y, test_size=0.1, stratify=y, random_state=42)"
   ]
  },
  {
   "cell_type": "code",
   "execution_count": 34,
   "id": "agricultural-guatemala",
   "metadata": {
    "ExecuteTime": {
     "end_time": "2021-03-02T09:40:01.282585Z",
     "start_time": "2021-03-02T09:40:01.268590Z"
    }
   },
   "outputs": [
    {
     "data": {
      "text/plain": [
       "(247530, 170)"
      ]
     },
     "execution_count": 34,
     "metadata": {},
     "output_type": "execute_result"
    }
   ],
   "source": [
    "X_train.shape"
   ]
  },
  {
   "cell_type": "code",
   "execution_count": 35,
   "id": "prime-efficiency",
   "metadata": {
    "ExecuteTime": {
     "end_time": "2021-03-02T09:40:01.298617Z",
     "start_time": "2021-03-02T09:40:01.284586Z"
    }
   },
   "outputs": [
    {
     "data": {
      "text/plain": [
       "(27504, 170)"
      ]
     },
     "execution_count": 35,
     "metadata": {},
     "output_type": "execute_result"
    }
   ],
   "source": [
    "X_test.shape"
   ]
  },
  {
   "cell_type": "code",
   "execution_count": 36,
   "id": "guilty-layout",
   "metadata": {
    "ExecuteTime": {
     "end_time": "2021-03-02T09:40:01.314627Z",
     "start_time": "2021-03-02T09:40:01.301616Z"
    }
   },
   "outputs": [],
   "source": [
    "#Parameters\n",
    "batch_size = 512\n",
    "epochs = 5\n",
    "embedding_vecor_length = 32\n",
    "lstm_size = 32"
   ]
  },
  {
   "cell_type": "code",
   "execution_count": 37,
   "id": "metropolitan-culture",
   "metadata": {
    "ExecuteTime": {
     "end_time": "2021-03-02T09:40:02.564169Z",
     "start_time": "2021-03-02T09:40:01.316591Z"
    }
   },
   "outputs": [
    {
     "name": "stdout",
     "output_type": "stream",
     "text": [
      "Model: \"sequential\"\n",
      "_________________________________________________________________\n",
      "Layer (type)                 Output Shape              Param #   \n",
      "=================================================================\n",
      "embedding (Embedding)        (None, 170, 32)           2489856   \n",
      "_________________________________________________________________\n",
      "dropout (Dropout)            (None, 170, 32)           0         \n",
      "_________________________________________________________________\n",
      "lstm (LSTM)                  (None, 32)                8320      \n",
      "_________________________________________________________________\n",
      "dropout_1 (Dropout)          (None, 32)                0         \n",
      "_________________________________________________________________\n",
      "dense (Dense)                (None, 16)                528       \n",
      "=================================================================\n",
      "Total params: 2,498,704\n",
      "Trainable params: 2,498,704\n",
      "Non-trainable params: 0\n",
      "_________________________________________________________________\n",
      "None\n"
     ]
    }
   ],
   "source": [
    "#Model\n",
    "model = Sequential()\n",
    "model.add(Embedding(max_nb_words, embedding_vecor_length, input_length=max_post_len))\n",
    "model.add(Dropout(0.25))\n",
    "\n",
    "model.add(LSTM(lstm_size))\n",
    "model.add(Dropout(0.25))\n",
    "\n",
    "model.add(Dense(ptypes_num, activation='softmax'))\n",
    "model.compile(loss='categorical_crossentropy', optimizer='adam', metrics=['accuracy'])\n",
    "print(model.summary())"
   ]
  },
  {
   "cell_type": "code",
   "execution_count": 38,
   "id": "fossil-journey",
   "metadata": {
    "ExecuteTime": {
     "end_time": "2021-03-02T09:40:02.580169Z",
     "start_time": "2021-03-02T09:40:02.565172Z"
    }
   },
   "outputs": [
    {
     "name": "stdout",
     "output_type": "stream",
     "text": [
      "sklearn: 0.23.2\n"
     ]
    }
   ],
   "source": [
    "import sklearn\n",
    "print('sklearn: %s' % sklearn.__version__)"
   ]
  },
  {
   "cell_type": "code",
   "execution_count": 40,
   "id": "tough-depth",
   "metadata": {
    "ExecuteTime": {
     "end_time": "2021-03-02T09:51:30.251672Z",
     "start_time": "2021-03-02T09:40:39.749974Z"
    }
   },
   "outputs": [
    {
     "name": "stderr",
     "output_type": "stream",
     "text": [
      "C:\\Users\\MSI\\anaconda3\\envs\\tensorflow\\lib\\site-packages\\sklearn\\utils\\validation.py:70: FutureWarning: Pass classes=[ 0  1  2  3  4  5  6  7  8  9 10 11 12 13 14 15], y=[8 8 8 ... 9 9 9] as keyword args. From version 0.25 passing these as positional arguments will result in an error\n",
      "  FutureWarning)\n"
     ]
    },
    {
     "name": "stdout",
     "output_type": "stream",
     "text": [
      "Epoch 1/5\n",
      "484/484 [==============================] - 127s 258ms/step - loss: 2.3867 - accuracy: 0.1866 - val_loss: 2.2459 - val_accuracy: 0.2185\n",
      "Epoch 2/5\n",
      "484/484 [==============================] - 124s 255ms/step - loss: 2.2344 - accuracy: 0.2228 - val_loss: 2.2223 - val_accuracy: 0.2278\n",
      "Epoch 3/5\n",
      "484/484 [==============================] - 132s 273ms/step - loss: 2.1893 - accuracy: 0.2439 - val_loss: 2.2172 - val_accuracy: 0.2368\n",
      "Epoch 4/5\n",
      "484/484 [==============================] - 133s 275ms/step - loss: 2.1458 - accuracy: 0.2650 - val_loss: 2.2296 - val_accuracy: 0.2350\n",
      "Epoch 5/5\n",
      "484/484 [==============================] - 135s 279ms/step - loss: 2.0988 - accuracy: 0.2893 - val_loss: 2.2466 - val_accuracy: 0.2342\n"
     ]
    }
   ],
   "source": [
    "#Calculate Class Weights\n",
    "# wy = le.fit_transform(df[\"type\"])\n",
    "# cw = class_weight.compute_class_weight('balanced', np.unique(wy), wy) #problems with np.unique\n",
    "\n",
    "#Fit Model\n",
    "model.fit(X_train, y_train, epochs=epochs, batch_size=batch_size, validation_data=(X_test, y_test));"
   ]
  },
  {
   "cell_type": "code",
   "execution_count": 46,
   "id": "purple-unemployment",
   "metadata": {
    "ExecuteTime": {
     "end_time": "2021-03-02T10:11:48.448001Z",
     "start_time": "2021-03-02T10:08:45.545576Z"
    }
   },
   "outputs": [
    {
     "name": "stdout",
     "output_type": "stream",
     "text": [
      "Train Accuracy: 0.32882073521614075\n",
      "Test Accuracy: 0.2341841161251068\n"
     ]
    }
   ],
   "source": [
    "scores_tr = model.evaluate(X_train, y_train, verbose=0)\n",
    "scores_ts = model.evaluate(X_test, y_test, verbose=0)\n",
    "\n",
    "print(\"Train Accuracy:\",scores_tr[1])\n",
    "print(\"Test Accuracy:\", scores_ts[1])\n",
    "# print(\"******\")\n",
    "# print(\"Categorical Train accuracy:\", cat_accu_seq(X_train, y_train, model))\n",
    "# print(\"Categorical Test Accuracy:\", cat_accu_seq(X_test, y_test, model))"
   ]
  },
  {
   "cell_type": "markdown",
   "id": "weighted-cooperation",
   "metadata": {},
   "source": [
    "# Predictions"
   ]
  },
  {
   "cell_type": "code",
   "execution_count": 44,
   "id": "surprising-petite",
   "metadata": {
    "ExecuteTime": {
     "end_time": "2021-03-02T09:59:54.597044Z",
     "start_time": "2021-03-02T09:59:44.808739Z"
    }
   },
   "outputs": [],
   "source": [
    "yp_test =  np.argmax(model.predict(X_test), axis=1)\n",
    "\n",
    "dft = pd.DataFrame(le.inverse_transform(yp_test),columns=[\"pred\"])\n",
    "dft[\"cnt\"] =  1\n",
    "dft[\"same\"] = (yp_test == np.argmax(y_test, axis=1))\n",
    "dft[\"same\"] = dft[\"same\"].astype(int)\n",
    "\n",
    "groupsn = dft.groupby(\"pred\").sum()\n",
    "groupsn.sort_values(\"cnt\", ascending=False, inplace=True)"
   ]
  },
  {
   "cell_type": "code",
   "execution_count": 45,
   "id": "studied-wheel",
   "metadata": {
    "ExecuteTime": {
     "end_time": "2021-03-02T10:00:04.679490Z",
     "start_time": "2021-03-02T10:00:04.387490Z"
    }
   },
   "outputs": [
    {
     "data": {
      "image/png": "[encoded data removed]",
      "text/plain": [
       "<Figure size 1152x432 with 2 Axes>"
      ]
     },
     "metadata": {},
     "output_type": "display_data"
    }
   ],
   "source": [
    "f, ax = plt.subplots(1,2,figsize=(2*PW,PH))\n",
    "groupsn[\"cnt\"].plot(kind=\"bar\", title=\"Predicted User Personality Types\", ax=ax[0]);\n",
    "groupsn[\"same\"].plot(kind=\"bar\", title=\"Correctly Classified User Personality Types\", ax=ax[1]);"
   ]
  }
 ],
 "metadata": {
  "kernelspec": {
   "display_name": "Python 3",
   "language": "python",
   "name": "python3"
  },
  "language_info": {
   "codemirror_mode": {
    "name": "ipython",
    "version": 3
   },
   "file_extension": ".py",
   "mimetype": "text/x-python",
   "name": "python",
   "nbconvert_exporter": "python",
   "pygments_lexer": "ipython3",
   "version": "3.8.6"
  },
  "toc": {
   "base_numbering": 1,
   "nav_menu": {},
   "number_sections": true,
   "sideBar": true,
   "skip_h1_title": false,
   "title_cell": "Table of Contents",
   "title_sidebar": "Contents",
   "toc_cell": false,
   "toc_position": {},
   "toc_section_display": true,
   "toc_window_display": false
  },
  "varInspector": {
   "cols": {
    "lenName": 16,
    "lenType": 16,
    "lenVar": 40
   },
   "kernels_config": {
    "python": {
     "delete_cmd_postfix": "",
     "delete_cmd_prefix": "del ",
     "library": "var_list.py",
     "varRefreshCmd": "print(var_dic_list())"
    },
    "r": {
     "delete_cmd_postfix": ") ",
     "delete_cmd_prefix": "rm(",
     "library": "var_list.r",
     "varRefreshCmd": "cat(var_dic_list()) "
    }
   },
   "types_to_exclude": [
    "module",
    "function",
    "builtin_function_or_method",
    "instance",
    "_Feature"
   ],
   "window_display": false
  }
 },
 "nbformat": 4,
 "nbformat_minor": 5
}
