{
 "cells": [
  {
   "cell_type": "code",
   "execution_count": 5,
   "id": "arctic-february",
   "metadata": {
    "ExecuteTime": {
     "end_time": "2021-03-14T05:23:25.127798Z",
     "start_time": "2021-03-14T05:23:25.117765Z"
    }
   },
   "outputs": [],
   "source": [
    "import keras\n",
    "import numpy as np\n",
    "import pandas as pd \n",
    "import matplotlib as mpl\n",
    "import matplotlib.pyplot as plt\n",
    "from PIL import Image #The PIL library is used to open image content into an array.\n",
    "import os #With the help of the OS module, we iterate over all the classes and append images and \n",
    "          #their respective labels in the data and labels list.\n",
    "import tensorflow as tf\n",
    "from sklearn.model_selection import train_test_split\n",
    "from keras.utils import to_categorical\n",
    "from keras.models import Sequential\n",
    "from keras.layers import Conv2D, MaxPool2D, Dense, Flatten, Dropout"
   ]
  },
  {
   "cell_type": "code",
   "execution_count": 18,
   "id": "wanted-montana",
   "metadata": {
    "ExecuteTime": {
     "end_time": "2021-03-14T06:10:56.461045Z",
     "start_time": "2021-03-14T06:10:56.449295Z"
    }
   },
   "outputs": [],
   "source": [
    "from keras import models"
   ]
  },
  {
   "cell_type": "markdown",
   "id": "thrown-horror",
   "metadata": {},
   "source": [
    "## Dataset\n",
    "\n",
    "https://www.uni-ulm.de/in/iui-drive-u/projekte/driveu-traffic-light-dataset/"
   ]
  },
  {
   "cell_type": "markdown",
   "id": "written-deployment",
   "metadata": {},
   "source": [
    "## Import the images"
   ]
  },
  {
   "cell_type": "code",
   "execution_count": 6,
   "id": "frequent-festival",
   "metadata": {
    "ExecuteTime": {
     "end_time": "2021-03-14T05:27:54.899091Z",
     "start_time": "2021-03-14T05:27:54.883093Z"
    }
   },
   "outputs": [],
   "source": [
    "#create empty lists to store the data\n",
    "data = []\n",
    "labels = []\n",
    "classes = 43\n",
    "cur_path = os.getcwd()"
   ]
  },
  {
   "cell_type": "code",
   "execution_count": 7,
   "id": "popular-minnesota",
   "metadata": {
    "ExecuteTime": {
     "end_time": "2021-03-14T05:32:46.514331Z",
     "start_time": "2021-03-14T05:32:16.246449Z"
    }
   },
   "outputs": [],
   "source": [
    "#Get the images from the directory\n",
    "\n",
    "for i in range(classes):\n",
    "    path = os.path.join(cur_path, 'train', str(i))\n",
    "    images = os.listdir(path)\n",
    "    \n",
    "    \n",
    "    for a in images:\n",
    "        try:\n",
    "            image = Image.open(path + '\\\\' + a)\n",
    "            image = image.resize((30, 30))\n",
    "            image = np.array(image)\n",
    "            #sim = Image.fromarray(image)\n",
    "            data.append(image)\n",
    "            labels.append(i)\n",
    "        except:\n",
    "            print(\"error loading image\")\n",
    "            \n",
    "data = np.array(data)\n",
    "labels = np.array(labels)"
   ]
  },
  {
   "cell_type": "code",
   "execution_count": 10,
   "id": "nominated-acoustic",
   "metadata": {
    "ExecuteTime": {
     "end_time": "2021-03-14T05:39:40.911735Z",
     "start_time": "2021-03-14T05:39:40.897734Z"
    }
   },
   "outputs": [
    {
     "data": {
      "text/plain": [
       "(78418, 30, 30, 3)"
      ]
     },
     "execution_count": 10,
     "metadata": {},
     "output_type": "execute_result"
    }
   ],
   "source": [
    "data.shape # 78418 images of 30x30 and RGB coding (that is the 3 (of 3 colors))"
   ]
  },
  {
   "cell_type": "code",
   "execution_count": 14,
   "id": "grave-brother",
   "metadata": {
    "ExecuteTime": {
     "end_time": "2021-03-14T05:55:12.140747Z",
     "start_time": "2021-03-14T05:55:12.129748Z"
    }
   },
   "outputs": [
    {
     "data": {
      "text/plain": [
       "array([[[[ 75,  78,  80],\n",
       "         [ 74,  76,  78],\n",
       "         [ 85,  86,  84],\n",
       "         ...,\n",
       "         [ 68,  75,  74],\n",
       "         [ 65,  69,  68],\n",
       "         [ 66,  67,  66]],\n",
       "\n",
       "        [[ 83,  84,  86],\n",
       "         [ 80,  80,  82],\n",
       "         [ 88,  88,  83],\n",
       "         ...,\n",
       "         [ 73,  77,  78],\n",
       "         [ 76,  78,  75],\n",
       "         [ 80,  80,  78]],\n",
       "\n",
       "        [[ 78,  78,  80],\n",
       "         [ 86,  85,  86],\n",
       "         [ 90,  89,  90],\n",
       "         ...,\n",
       "         [ 71,  74,  71],\n",
       "         [ 73,  74,  69],\n",
       "         [ 78,  78,  74]],\n",
       "\n",
       "        ...,\n",
       "\n",
       "        [[133, 134, 139],\n",
       "         [123, 127, 132],\n",
       "         [112, 121, 125],\n",
       "         ...,\n",
       "         [ 94,  95,  89],\n",
       "         [ 97,  98,  91],\n",
       "         [ 99, 103,  99]],\n",
       "\n",
       "        [[ 91,  95,  99],\n",
       "         [ 91,  98, 103],\n",
       "         [ 75,  86,  90],\n",
       "         ...,\n",
       "         [104, 102,  96],\n",
       "         [110, 113, 104],\n",
       "         [ 96, 104,  98]],\n",
       "\n",
       "        [[ 85,  84,  87],\n",
       "         [ 95, 101, 107],\n",
       "         [ 63,  76,  81],\n",
       "         ...,\n",
       "         [103, 103,  95],\n",
       "         [ 99, 102,  90],\n",
       "         [ 90,  97,  89]]],\n",
       "\n",
       "\n",
       "       [[[ 75,  78,  80],\n",
       "         [ 74,  76,  78],\n",
       "         [ 85,  86,  84],\n",
       "         ...,\n",
       "         [ 68,  75,  74],\n",
       "         [ 65,  69,  68],\n",
       "         [ 66,  67,  66]],\n",
       "\n",
       "        [[ 83,  84,  86],\n",
       "         [ 80,  80,  82],\n",
       "         [ 88,  88,  83],\n",
       "         ...,\n",
       "         [ 73,  77,  78],\n",
       "         [ 76,  78,  75],\n",
       "         [ 80,  80,  78]],\n",
       "\n",
       "        [[ 78,  78,  80],\n",
       "         [ 86,  85,  86],\n",
       "         [ 90,  89,  90],\n",
       "         ...,\n",
       "         [ 71,  74,  71],\n",
       "         [ 73,  74,  69],\n",
       "         [ 78,  78,  74]],\n",
       "\n",
       "        ...,\n",
       "\n",
       "        [[133, 134, 139],\n",
       "         [123, 127, 132],\n",
       "         [112, 121, 125],\n",
       "         ...,\n",
       "         [ 94,  95,  89],\n",
       "         [ 97,  98,  91],\n",
       "         [ 99, 103,  99]],\n",
       "\n",
       "        [[ 91,  95,  99],\n",
       "         [ 91,  98, 103],\n",
       "         [ 75,  86,  90],\n",
       "         ...,\n",
       "         [104, 102,  96],\n",
       "         [110, 113, 104],\n",
       "         [ 96, 104,  98]],\n",
       "\n",
       "        [[ 85,  84,  87],\n",
       "         [ 95, 101, 107],\n",
       "         [ 63,  76,  81],\n",
       "         ...,\n",
       "         [103, 103,  95],\n",
       "         [ 99, 102,  90],\n",
       "         [ 90,  97,  89]]],\n",
       "\n",
       "\n",
       "       [[[ 69,  73,  73],\n",
       "         [ 76,  79,  79],\n",
       "         [ 75,  77,  77],\n",
       "         ...,\n",
       "         [ 76,  81,  80],\n",
       "         [ 71,  77,  77],\n",
       "         [ 66,  68,  70]],\n",
       "\n",
       "        [[ 65,  69,  69],\n",
       "         [ 74,  76,  76],\n",
       "         [ 84,  84,  83],\n",
       "         ...,\n",
       "         [ 90,  83,  89],\n",
       "         [ 74,  79,  84],\n",
       "         [ 67,  69,  73]],\n",
       "\n",
       "        [[ 63,  68,  68],\n",
       "         [ 71,  72,  72],\n",
       "         [ 81,  79,  77],\n",
       "         ...,\n",
       "         [105,  86,  91],\n",
       "         [ 71,  75,  76],\n",
       "         [ 69,  71,  69]],\n",
       "\n",
       "        ...,\n",
       "\n",
       "        [[164, 139, 142],\n",
       "         [157, 139, 144],\n",
       "         [151, 139, 143],\n",
       "         ...,\n",
       "         [ 76,  77,  79],\n",
       "         [ 77,  80,  76],\n",
       "         [ 90,  93,  82]],\n",
       "\n",
       "        [[102, 103, 104],\n",
       "         [103, 102, 104],\n",
       "         [101,  97, 103],\n",
       "         ...,\n",
       "         [ 80,  81,  82],\n",
       "         [ 92,  95,  91],\n",
       "         [106, 110, 101]],\n",
       "\n",
       "        [[ 72,  74,  74],\n",
       "         [ 82,  83,  82],\n",
       "         [ 92,  92,  99],\n",
       "         ...,\n",
       "         [ 74,  74,  75],\n",
       "         [103, 103, 100],\n",
       "         [101, 104,  96]]],\n",
       "\n",
       "\n",
       "       ...,\n",
       "\n",
       "\n",
       "       [[[ 13,  13,  15],\n",
       "         [ 14,  13,  16],\n",
       "         [ 13,  11,  13],\n",
       "         ...,\n",
       "         [ 12,  11,  12],\n",
       "         [ 11,  10,  11],\n",
       "         [ 11,  13,  19]],\n",
       "\n",
       "        [[ 14,  12,  14],\n",
       "         [ 13,  12,  14],\n",
       "         [ 14,  12,  14],\n",
       "         ...,\n",
       "         [ 11,  11,  13],\n",
       "         [ 11,  10,  12],\n",
       "         [ 10,  11,  14]],\n",
       "\n",
       "        [[ 12,  11,  12],\n",
       "         [ 13,  12,  13],\n",
       "         [ 13,  12,  14],\n",
       "         ...,\n",
       "         [ 11,  10,  12],\n",
       "         [ 11,  10,  12],\n",
       "         [ 10,   9,  11]],\n",
       "\n",
       "        ...,\n",
       "\n",
       "        [[ 12,  12,  13],\n",
       "         [ 11,  10,  11],\n",
       "         [  9,   9,  11],\n",
       "         ...,\n",
       "         [ 13,  12,  13],\n",
       "         [ 11,   9,  11],\n",
       "         [  9,   9,  10]],\n",
       "\n",
       "        [[ 11,  10,  12],\n",
       "         [ 12,  10,  12],\n",
       "         [ 10,   9,  11],\n",
       "         ...,\n",
       "         [ 14,  13,  15],\n",
       "         [ 11,  10,  10],\n",
       "         [ 10,   9,   9]],\n",
       "\n",
       "        [[ 10,   9,  11],\n",
       "         [ 10,   9,  11],\n",
       "         [ 10,  10,  12],\n",
       "         ...,\n",
       "         [ 14,  12,  14],\n",
       "         [ 11,  10,  11],\n",
       "         [ 10,   9,  10]]],\n",
       "\n",
       "\n",
       "       [[[ 11,  10,  12],\n",
       "         [ 11,  10,  11],\n",
       "         [ 10,  10,  11],\n",
       "         ...,\n",
       "         [ 18,  20,  22],\n",
       "         [ 25,  24,  23],\n",
       "         [ 24,  17,  17]],\n",
       "\n",
       "        [[ 12,  11,  12],\n",
       "         [ 12,  11,  12],\n",
       "         [ 12,  10,  12],\n",
       "         ...,\n",
       "         [ 45,  60,  77],\n",
       "         [ 80,  77,  83],\n",
       "         [ 51,  30,  27]],\n",
       "\n",
       "        [[ 12,  12,  13],\n",
       "         [ 12,  12,  14],\n",
       "         [ 12,  11,  12],\n",
       "         ...,\n",
       "         [ 69,  87, 109],\n",
       "         [ 89,  84, 103],\n",
       "         [ 51,  38,  44]],\n",
       "\n",
       "        ...,\n",
       "\n",
       "        [[ 12,  11,  14],\n",
       "         [ 13,  11,  12],\n",
       "         [ 10,   9,  10],\n",
       "         ...,\n",
       "         [ 10,   9,  11],\n",
       "         [ 10,   9,  11],\n",
       "         [  9,   9,  11]],\n",
       "\n",
       "        [[ 11,  11,  13],\n",
       "         [ 11,  10,  12],\n",
       "         [  9,   9,  10],\n",
       "         ...,\n",
       "         [ 10,   9,  11],\n",
       "         [  9,   9,  11],\n",
       "         [ 10,   9,  11]],\n",
       "\n",
       "        [[ 11,  11,  12],\n",
       "         [ 10,  10,  11],\n",
       "         [  9,   9,  10],\n",
       "         ...,\n",
       "         [ 10,   9,  12],\n",
       "         [ 10,  10,  11],\n",
       "         [ 10,   9,  11]]],\n",
       "\n",
       "\n",
       "       [[[ 11,  10,  12],\n",
       "         [ 11,  10,  11],\n",
       "         [ 10,  10,  11],\n",
       "         ...,\n",
       "         [ 18,  20,  22],\n",
       "         [ 25,  24,  23],\n",
       "         [ 24,  17,  17]],\n",
       "\n",
       "        [[ 12,  11,  12],\n",
       "         [ 12,  11,  12],\n",
       "         [ 12,  10,  12],\n",
       "         ...,\n",
       "         [ 45,  60,  77],\n",
       "         [ 80,  77,  83],\n",
       "         [ 51,  30,  27]],\n",
       "\n",
       "        [[ 12,  12,  13],\n",
       "         [ 12,  12,  14],\n",
       "         [ 12,  11,  12],\n",
       "         ...,\n",
       "         [ 69,  87, 109],\n",
       "         [ 89,  84, 103],\n",
       "         [ 51,  38,  44]],\n",
       "\n",
       "        ...,\n",
       "\n",
       "        [[ 12,  11,  14],\n",
       "         [ 13,  11,  12],\n",
       "         [ 10,   9,  10],\n",
       "         ...,\n",
       "         [ 10,   9,  11],\n",
       "         [ 10,   9,  11],\n",
       "         [  9,   9,  11]],\n",
       "\n",
       "        [[ 11,  11,  13],\n",
       "         [ 11,  10,  12],\n",
       "         [  9,   9,  10],\n",
       "         ...,\n",
       "         [ 10,   9,  11],\n",
       "         [  9,   9,  11],\n",
       "         [ 10,   9,  11]],\n",
       "\n",
       "        [[ 11,  11,  12],\n",
       "         [ 10,  10,  11],\n",
       "         [  9,   9,  10],\n",
       "         ...,\n",
       "         [ 10,   9,  12],\n",
       "         [ 10,  10,  11],\n",
       "         [ 10,   9,  11]]]], dtype=uint8)"
      ]
     },
     "execution_count": 14,
     "metadata": {},
     "output_type": "execute_result"
    }
   ],
   "source": [
    "data"
   ]
  },
  {
   "cell_type": "code",
   "execution_count": 15,
   "id": "billion-local",
   "metadata": {
    "ExecuteTime": {
     "end_time": "2021-03-14T05:55:18.889093Z",
     "start_time": "2021-03-14T05:55:18.880065Z"
    }
   },
   "outputs": [
    {
     "data": {
      "text/plain": [
       "array([ 0,  0,  0, ..., 42, 42, 42])"
      ]
     },
     "execution_count": 15,
     "metadata": {},
     "output_type": "execute_result"
    }
   ],
   "source": [
    "labels"
   ]
  },
  {
   "cell_type": "code",
   "execution_count": 11,
   "id": "flexible-strategy",
   "metadata": {
    "ExecuteTime": {
     "end_time": "2021-03-14T05:40:29.158599Z",
     "start_time": "2021-03-14T05:40:29.152596Z"
    }
   },
   "outputs": [
    {
     "data": {
      "text/plain": [
       "(78418,)"
      ]
     },
     "execution_count": 11,
     "metadata": {},
     "output_type": "execute_result"
    }
   ],
   "source": [
    "labels.shape"
   ]
  },
  {
   "cell_type": "markdown",
   "id": "latest-accent",
   "metadata": {},
   "source": [
    "## divide the data set"
   ]
  },
  {
   "cell_type": "code",
   "execution_count": 12,
   "id": "according-pontiac",
   "metadata": {
    "ExecuteTime": {
     "end_time": "2021-03-14T05:49:56.727875Z",
     "start_time": "2021-03-14T05:49:56.614828Z"
    }
   },
   "outputs": [],
   "source": [
    "X_train, X_test, y_train, y_test = train_test_split(data, labels, test_size= 0.2, random_state= 42)"
   ]
  },
  {
   "cell_type": "code",
   "execution_count": 13,
   "id": "instant-accordance",
   "metadata": {
    "ExecuteTime": {
     "end_time": "2021-03-14T05:54:58.350319Z",
     "start_time": "2021-03-14T05:54:58.336321Z"
    }
   },
   "outputs": [],
   "source": [
    "#You can’t feed an array of integers into a neural network. the labels are just one dimention\n",
    "#We have to turn the labels into tensors (multidimentional arrays) \n",
    "#A way of doing this is with one-hot-encoding to transform the values to 0 and 1s.\n",
    "\n",
    "y_train = to_categorical(y_train, 43)\n",
    "y_test = to_categorical(y_test, 43)"
   ]
  },
  {
   "cell_type": "code",
   "execution_count": 17,
   "id": "invalid-madrid",
   "metadata": {
    "ExecuteTime": {
     "end_time": "2021-03-14T05:56:04.700952Z",
     "start_time": "2021-03-14T05:56:04.680934Z"
    }
   },
   "outputs": [
    {
     "data": {
      "text/plain": [
       "(62734, 43)"
      ]
     },
     "execution_count": 17,
     "metadata": {},
     "output_type": "execute_result"
    }
   ],
   "source": [
    "y_train.shape"
   ]
  },
  {
   "cell_type": "markdown",
   "id": "united-caribbean",
   "metadata": {},
   "source": [
    "## Build a CNN model"
   ]
  },
  {
   "cell_type": "markdown",
   "id": "yellow-lincoln",
   "metadata": {},
   "source": [
    "> ```To classify the images into their respective categories, we will build a CNN model (Convolutional Neural Network). CNN is best for image classification purposes.```"
   ]
  },
  {
   "cell_type": "code",
   "execution_count": 23,
   "id": "hawaiian-tobacco",
   "metadata": {
    "ExecuteTime": {
     "end_time": "2021-03-14T06:25:57.453239Z",
     "start_time": "2021-03-14T06:25:57.355176Z"
    }
   },
   "outputs": [],
   "source": [
    "#use relu as the default activation function\n",
    "#loss is going to be 'categorical_crossentropy' because we have many classes to categorize\n",
    "\n",
    "model = models.Sequential()\n",
    "model.add(Conv2D(filters = 32, kernel_size=(5,5), activation = 'relu', input_shape = X_train.shape[1:]))\n",
    "model.add(Conv2D(filters = 32, kernel_size=(5,5), activation = 'relu'))\n",
    "model.add(MaxPool2D(pool_size=(2,2))) #\n",
    "model.add(Dropout(rate = 0.25)) #he dropout rate is the fraction of the features that are zeroed out.\n",
    "                                #done so the overfitting is reduces due to the model not learning specifics pattern\n",
    "model.add(Conv2D(filters = 64, kernel_size= (3,3), activation = 'relu'))\n",
    "model.add(Conv2D(filters = 64, kernel_size=(3,3), activation = 'relu'))\n",
    "model.add(MaxPool2D(pool_size=(2,2)))\n",
    "model.add(Dropout(rate=0.25))\n",
    "model.add(Flatten())#\n",
    "model.add(Dense(256, activation= 'relu'))\n",
    "model.add(Dropout(rate=0.5))\n",
    "model.add(Dense(43, activation='softmax'))"
   ]
  },
  {
   "cell_type": "code",
   "execution_count": 24,
   "id": "bound-sheep",
   "metadata": {
    "ExecuteTime": {
     "end_time": "2021-03-14T06:38:25.863241Z",
     "start_time": "2021-03-14T06:38:25.837251Z"
    }
   },
   "outputs": [],
   "source": [
    "model.compile(loss = 'categorical_crossentropy', optimizer='adam', metrics=['accuracy'])"
   ]
  },
  {
   "cell_type": "code",
   "execution_count": 26,
   "id": "small-disease",
   "metadata": {
    "ExecuteTime": {
     "end_time": "2021-03-14T07:05:33.056659Z",
     "start_time": "2021-03-14T06:40:00.455680Z"
    }
   },
   "outputs": [
    {
     "name": "stdout",
     "output_type": "stream",
     "text": [
      "Epoch 1/15\n",
      "981/981 [==============================] - 102s 103ms/step - loss: 3.0111 - accuracy: 0.3470 - val_loss: 0.4277 - val_accuracy: 0.8856\n",
      "Epoch 2/15\n",
      "981/981 [==============================] - 102s 104ms/step - loss: 0.7614 - accuracy: 0.7709 - val_loss: 0.2302 - val_accuracy: 0.9329\n",
      "Epoch 3/15\n",
      "981/981 [==============================] - 100s 102ms/step - loss: 0.4968 - accuracy: 0.8490 - val_loss: 0.1771 - val_accuracy: 0.9469\n",
      "Epoch 4/15\n",
      "981/981 [==============================] - 98s 100ms/step - loss: 0.3562 - accuracy: 0.8942 - val_loss: 0.0963 - val_accuracy: 0.9728\n",
      "Epoch 5/15\n",
      "981/981 [==============================] - 97s 98ms/step - loss: 0.2825 - accuracy: 0.9136 - val_loss: 0.0791 - val_accuracy: 0.9769\n",
      "Epoch 6/15\n",
      "981/981 [==============================] - 99s 101ms/step - loss: 0.2558 - accuracy: 0.9236 - val_loss: 0.0678 - val_accuracy: 0.9797\n",
      "Epoch 7/15\n",
      "981/981 [==============================] - 100s 102ms/step - loss: 0.2181 - accuracy: 0.9352 - val_loss: 0.0539 - val_accuracy: 0.9832\n",
      "Epoch 8/15\n",
      "981/981 [==============================] - 98s 100ms/step - loss: 0.2001 - accuracy: 0.9411 - val_loss: 0.0881 - val_accuracy: 0.9749\n",
      "Epoch 9/15\n",
      "981/981 [==============================] - 96s 98ms/step - loss: 0.1935 - accuracy: 0.9426 - val_loss: 0.0479 - val_accuracy: 0.9860\n",
      "Epoch 10/15\n",
      "981/981 [==============================] - 97s 99ms/step - loss: 0.1656 - accuracy: 0.9506 - val_loss: 0.0527 - val_accuracy: 0.9852\n",
      "Epoch 11/15\n",
      "981/981 [==============================] - 98s 100ms/step - loss: 0.1712 - accuracy: 0.9497 - val_loss: 0.0317 - val_accuracy: 0.9915\n",
      "Epoch 12/15\n",
      "981/981 [==============================] - 107s 109ms/step - loss: 0.1595 - accuracy: 0.9527 - val_loss: 0.0349 - val_accuracy: 0.9899\n",
      "Epoch 13/15\n",
      "981/981 [==============================] - 113s 115ms/step - loss: 0.1576 - accuracy: 0.9549 - val_loss: 0.0303 - val_accuracy: 0.9916\n",
      "Epoch 14/15\n",
      "981/981 [==============================] - 115s 117ms/step - loss: 0.1516 - accuracy: 0.9562 - val_loss: 0.0395 - val_accuracy: 0.9895\n",
      "Epoch 15/15\n",
      "981/981 [==============================] - 110s 112ms/step - loss: 0.1499 - accuracy: 0.9563 - val_loss: 0.0292 - val_accuracy: 0.9928\n"
     ]
    }
   ],
   "source": [
    "#we need a validation set to not commit data leaking\n",
    "history = model.fit(X_train, y_train, batch_size=64, epochs= 15, validation_split= 0.2)"
   ]
  },
  {
   "cell_type": "code",
   "execution_count": 27,
   "id": "naked-shore",
   "metadata": {
    "ExecuteTime": {
     "end_time": "2021-03-14T07:13:13.327556Z",
     "start_time": "2021-03-14T07:13:12.677194Z"
    }
   },
   "outputs": [
    {
     "data": {
      "image/png": "[encoded data removed]",
      "text/plain": [
       "<Figure size 576x504 with 1 Axes>"
      ]
     },
     "metadata": {},
     "output_type": "display_data"
    },
    {
     "data": {
      "image/png": "[encoded data removed]",
      "text/plain": [
       "<Figure size 576x504 with 1 Axes>"
      ]
     },
     "metadata": {},
     "output_type": "display_data"
    }
   ],
   "source": [
    "plt.figure(0)\n",
    "plt.plot(history.history['accuracy'], label='training_accuracy')\n",
    "plt.plot(history.history['val_accuracy'], label= 'validation_accuracy')\n",
    "plt.title('Accuracy')\n",
    "plt.xlabel('epochs')\n",
    "plt.ylabel('accuracy')\n",
    "plt.legend()\n",
    "\n",
    "plt.figure(1)\n",
    "plt.plot(history.history['loss'], label='training loss')\n",
    "plt.plot(history.history['val_loss'], label='validation loss')\n",
    "plt.title('Loss')\n",
    "plt.xlabel('epochs')\n",
    "plt.ylabel('loss')\n",
    "plt.legend()\n",
    "plt.show()"
   ]
  },
  {
   "cell_type": "markdown",
   "id": "weird-yorkshire",
   "metadata": {},
   "source": [
    "## Test the accuracy of the model"
   ]
  },
  {
   "cell_type": "code",
   "execution_count": 31,
   "id": "soviet-christian",
   "metadata": {
    "ExecuteTime": {
     "end_time": "2021-03-14T09:47:06.880435Z",
     "start_time": "2021-03-14T09:46:47.900443Z"
    }
   },
   "outputs": [
    {
     "name": "stderr",
     "output_type": "stream",
     "text": [
      "C:\\Users\\MSI\\AppData\\Roaming\\Python\\Python37\\site-packages\\tensorflow\\python\\keras\\engine\\sequential.py:450: UserWarning: `model.predict_classes()` is deprecated and will be removed after 2021-01-01. Please use instead:* `np.argmax(model.predict(x), axis=-1)`,   if your model does multi-class classification   (e.g. if it uses a `softmax` last-layer activation).* `(model.predict(x) > 0.5).astype(\"int32\")`,   if your model does binary classification   (e.g. if it uses a `sigmoid` last-layer activation).\n",
      "  warnings.warn('`model.predict_classes()` is deprecated and '\n"
     ]
    },
    {
     "data": {
      "text/plain": [
       "0.9472684085510689"
      ]
     },
     "execution_count": 31,
     "metadata": {},
     "output_type": "execute_result"
    }
   ],
   "source": [
    "from sklearn.metrics import accuracy_score\n",
    "\n",
    "y_test = pd.read_csv(r'C:\\Users\\MSI\\Desktop\\Data Science\\Python\\Projects\\Traffic lights classification\\Test_1.csv')\n",
    "\n",
    "labels = y_test[\"ClassId\"].values\n",
    "imgs = y_test['Path'].values\n",
    "\n",
    "data=[]\n",
    "\n",
    "for img in imgs:\n",
    "    image = Image.open(img)\n",
    "    image = image.resize((30,30))\n",
    "    data.append(np.array(image))\n",
    "\n",
    "X_test = np.array(data)\n",
    "\n",
    "pred = model.predict_classes(X_test)\n",
    "\n",
    "#Accuracy with the test data\n",
    "\n",
    "from sklearn.metrics import accuracy_score\n",
    "accuracy_score(labels, pred)"
   ]
  },
  {
   "cell_type": "markdown",
   "id": "alpine-worry",
   "metadata": {},
   "source": [
    "## Save the model "
   ]
  },
  {
   "cell_type": "code",
   "execution_count": 32,
   "id": "civic-nancy",
   "metadata": {
    "ExecuteTime": {
     "end_time": "2021-03-14T09:50:49.379185Z",
     "start_time": "2021-03-14T09:50:49.251138Z"
    }
   },
   "outputs": [],
   "source": [
    "model.save('traffic_lights.h5')"
   ]
  },
  {
   "cell_type": "code",
   "execution_count": null,
   "id": "worse-kentucky",
   "metadata": {},
   "outputs": [],
   "source": []
  }
 ],
 "metadata": {
  "kernelspec": {
   "display_name": "Python 3",
   "language": "python",
   "name": "python3"
  },
  "language_info": {
   "codemirror_mode": {
    "name": "ipython",
    "version": 3
   },
   "file_extension": ".py",
   "mimetype": "text/x-python",
   "name": "python",
   "nbconvert_exporter": "python",
   "pygments_lexer": "ipython3",
   "version": "3.8.6"
  },
  "toc": {
   "base_numbering": 1,
   "nav_menu": {},
   "number_sections": true,
   "sideBar": true,
   "skip_h1_title": false,
   "title_cell": "Table of Contents",
   "title_sidebar": "Contents",
   "toc_cell": false,
   "toc_position": {},
   "toc_section_display": true,
   "toc_window_display": false
  },
  "varInspector": {
   "cols": {
    "lenName": 16,
    "lenType": 16,
    "lenVar": 40
   },
   "kernels_config": {
    "python": {
     "delete_cmd_postfix": "",
     "delete_cmd_prefix": "del ",
     "library": "var_list.py",
     "varRefreshCmd": "print(var_dic_list())"
    },
    "r": {
     "delete_cmd_postfix": ") ",
     "delete_cmd_prefix": "rm(",
     "library": "var_list.r",
     "varRefreshCmd": "cat(var_dic_list()) "
    }
   },
   "types_to_exclude": [
    "module",
    "function",
    "builtin_function_or_method",
    "instance",
    "_Feature"
   ],
   "window_display": false
  }
 },
 "nbformat": 4,
 "nbformat_minor": 5
}
