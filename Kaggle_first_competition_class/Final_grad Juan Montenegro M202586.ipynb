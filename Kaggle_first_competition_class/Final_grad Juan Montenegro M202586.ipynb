{
 "cells": [
  {
   "cell_type": "markdown",
   "metadata": {},
   "source": [
    "# <font color= white> 기말고사 - 통계분석론 2020-2학기"
   ]
  },
  {
   "cell_type": "markdown",
   "metadata": {},
   "source": [
    "<font color=\"white\"> \n",
    "    \n",
    "- **각 문항에 답을 하기 위해 사용된 그래프, 표, 통계량 등을 반드시 모두 제시하세요.**\n",
    "- **아래의 문제에 답을 채워넣은 뒤 모든 결과물이 프린트 된 상태에서 `File>Download as>HTML(.html)` 형식으로 저장하여 업로드하세요.**\n",
    "- **모든 가설검정은 유의수준($\\alpha$) 0.05 하에서 진행하세요.**"
   ]
  },
  {
   "cell_type": "code",
   "execution_count": 4,
   "metadata": {},
   "outputs": [],
   "source": [
    "import pandas as pd\n",
    "import numpy as np\n",
    "import matplotlib.pylab as plt\n",
    "from scipy import stats\n",
    "import statsmodels.api as sm\n",
    "import statsmodels.formula.api as smf\n",
    "from statsmodels.stats import weightstats\n",
    "from statsmodels.stats.outliers_influence import OLSInfluence\n"
   ]
  },
  {
   "cell_type": "markdown",
   "metadata": {},
   "source": [
    "1. 한 연구자는 우울증 치료요법의 효과를 측정하였다(depression.csv). 종속변수 y 는 측정된 치료요법의 효과(클수록 효과가 좋음)을 나타내고, age는 환자의 나이, TRT(A, B, C)는 세 가지 종류의 치료요법을 나타낸다. Y를 age와 TRT로 설명하는 회귀식을 적합하고 아래의 질문에 답하시오."
   ]
  },
  {
   "cell_type": "markdown",
   "metadata": {},
   "source": [
    "(1)\t추정된 회귀식을 쓰고 이 회귀식이 종속변수를 설명하는데 유의한지 가설검정을 진행하시오. (귀무가설, 대립가설 명시)"
   ]
  },
  {
   "cell_type": "code",
   "execution_count": 1,
   "metadata": {},
   "outputs": [],
   "source": [
    "dep = pd.read_csv(r\"C:/Users/MSI/Desktop/depression.csv\")"
   ]
  },
  {
   "cell_type": "code",
   "execution_count": 2,
   "metadata": {},
   "outputs": [
    {
     "data": {
      "text/html": [
       "<div>\n",
       "<style scoped>\n",
       "    .dataframe tbody tr th:only-of-type {\n",
       "        vertical-align: middle;\n",
       "    }\n",
       "\n",
       "    .dataframe tbody tr th {\n",
       "        vertical-align: top;\n",
       "    }\n",
       "\n",
       "    .dataframe thead th {\n",
       "        text-align: right;\n",
       "    }\n",
       "</style>\n",
       "<table border=\"1\" class=\"dataframe\">\n",
       "  <thead>\n",
       "    <tr style=\"text-align: right;\">\n",
       "      <th></th>\n",
       "      <th>y</th>\n",
       "      <th>age</th>\n",
       "      <th>TRT</th>\n",
       "    </tr>\n",
       "  </thead>\n",
       "  <tbody>\n",
       "    <tr>\n",
       "      <th>0</th>\n",
       "      <td>56</td>\n",
       "      <td>21</td>\n",
       "      <td>A</td>\n",
       "    </tr>\n",
       "    <tr>\n",
       "      <th>1</th>\n",
       "      <td>41</td>\n",
       "      <td>23</td>\n",
       "      <td>B</td>\n",
       "    </tr>\n",
       "    <tr>\n",
       "      <th>2</th>\n",
       "      <td>40</td>\n",
       "      <td>30</td>\n",
       "      <td>B</td>\n",
       "    </tr>\n",
       "    <tr>\n",
       "      <th>3</th>\n",
       "      <td>28</td>\n",
       "      <td>19</td>\n",
       "      <td>C</td>\n",
       "    </tr>\n",
       "    <tr>\n",
       "      <th>4</th>\n",
       "      <td>55</td>\n",
       "      <td>28</td>\n",
       "      <td>A</td>\n",
       "    </tr>\n",
       "  </tbody>\n",
       "</table>\n",
       "</div>"
      ],
      "text/plain": [
       "    y  age TRT\n",
       "0  56   21   A\n",
       "1  41   23   B\n",
       "2  40   30   B\n",
       "3  28   19   C\n",
       "4  55   28   A"
      ]
     },
     "execution_count": 2,
     "metadata": {},
     "output_type": "execute_result"
    }
   ],
   "source": [
    "dep.head()"
   ]
  },
  {
   "cell_type": "code",
   "execution_count": 5,
   "metadata": {},
   "outputs": [
    {
     "data": {
      "text/html": [
       "<table class=\"simpletable\">\n",
       "<caption>OLS Regression Results</caption>\n",
       "<tr>\n",
       "  <th>Dep. Variable:</th>            <td>y</td>        <th>  R-squared:         </th> <td>   0.784</td>\n",
       "</tr>\n",
       "<tr>\n",
       "  <th>Model:</th>                   <td>OLS</td>       <th>  Adj. R-squared:    </th> <td>   0.764</td>\n",
       "</tr>\n",
       "<tr>\n",
       "  <th>Method:</th>             <td>Least Squares</td>  <th>  F-statistic:       </th> <td>   38.71</td>\n",
       "</tr>\n",
       "<tr>\n",
       "  <th>Date:</th>             <td>Wed, 16 Dec 2020</td> <th>  Prob (F-statistic):</th> <td>9.29e-11</td>\n",
       "</tr>\n",
       "<tr>\n",
       "  <th>Time:</th>                 <td>18:04:52</td>     <th>  Log-Likelihood:    </th> <td> -113.68</td>\n",
       "</tr>\n",
       "<tr>\n",
       "  <th>No. Observations:</th>      <td>    36</td>      <th>  AIC:               </th> <td>   235.4</td>\n",
       "</tr>\n",
       "<tr>\n",
       "  <th>Df Residuals:</th>          <td>    32</td>      <th>  BIC:               </th> <td>   241.7</td>\n",
       "</tr>\n",
       "<tr>\n",
       "  <th>Df Model:</th>              <td>     3</td>      <th>                     </th>     <td> </td>   \n",
       "</tr>\n",
       "<tr>\n",
       "  <th>Covariance Type:</th>      <td>nonrobust</td>    <th>                     </th>     <td> </td>   \n",
       "</tr>\n",
       "</table>\n",
       "<table class=\"simpletable\">\n",
       "<tr>\n",
       "      <td></td>         <th>coef</th>     <th>std err</th>      <th>t</th>      <th>P>|t|</th>  <th>[0.025</th>    <th>0.975]</th>  \n",
       "</tr>\n",
       "<tr>\n",
       "  <th>Intercept</th> <td>   32.5433</td> <td>    3.581</td> <td>    9.088</td> <td> 0.000</td> <td>   25.249</td> <td>   39.838</td>\n",
       "</tr>\n",
       "<tr>\n",
       "  <th>TRT[T.B]</th>  <td>   -9.8076</td> <td>    2.465</td> <td>   -3.979</td> <td> 0.000</td> <td>  -14.828</td> <td>   -4.787</td>\n",
       "</tr>\n",
       "<tr>\n",
       "  <th>TRT[T.C]</th>  <td>  -10.2528</td> <td>    2.465</td> <td>   -4.159</td> <td> 0.000</td> <td>  -15.275</td> <td>   -5.231</td>\n",
       "</tr>\n",
       "<tr>\n",
       "  <th>age</th>       <td>    0.6645</td> <td>    0.070</td> <td>    9.522</td> <td> 0.000</td> <td>    0.522</td> <td>    0.807</td>\n",
       "</tr>\n",
       "</table>\n",
       "<table class=\"simpletable\">\n",
       "<tr>\n",
       "  <th>Omnibus:</th>       <td> 1.212</td> <th>  Durbin-Watson:     </th> <td>   2.214</td>\n",
       "</tr>\n",
       "<tr>\n",
       "  <th>Prob(Omnibus):</th> <td> 0.546</td> <th>  Jarque-Bera (JB):  </th> <td>   1.196</td>\n",
       "</tr>\n",
       "<tr>\n",
       "  <th>Skew:</th>          <td>-0.347</td> <th>  Prob(JB):          </th> <td>   0.550</td>\n",
       "</tr>\n",
       "<tr>\n",
       "  <th>Kurtosis:</th>      <td> 2.438</td> <th>  Cond. No.          </th> <td>    184.</td>\n",
       "</tr>\n",
       "</table><br/><br/>Notes:<br/>[1] Standard Errors assume that the covariance matrix of the errors is correctly specified."
      ],
      "text/plain": [
       "<class 'statsmodels.iolib.summary.Summary'>\n",
       "\"\"\"\n",
       "                            OLS Regression Results                            \n",
       "==============================================================================\n",
       "Dep. Variable:                      y   R-squared:                       0.784\n",
       "Model:                            OLS   Adj. R-squared:                  0.764\n",
       "Method:                 Least Squares   F-statistic:                     38.71\n",
       "Date:                Wed, 16 Dec 2020   Prob (F-statistic):           9.29e-11\n",
       "Time:                        18:04:52   Log-Likelihood:                -113.68\n",
       "No. Observations:                  36   AIC:                             235.4\n",
       "Df Residuals:                      32   BIC:                             241.7\n",
       "Df Model:                           3                                         \n",
       "Covariance Type:            nonrobust                                         \n",
       "==============================================================================\n",
       "                 coef    std err          t      P>|t|      [0.025      0.975]\n",
       "------------------------------------------------------------------------------\n",
       "Intercept     32.5433      3.581      9.088      0.000      25.249      39.838\n",
       "TRT[T.B]      -9.8076      2.465     -3.979      0.000     -14.828      -4.787\n",
       "TRT[T.C]     -10.2528      2.465     -4.159      0.000     -15.275      -5.231\n",
       "age            0.6645      0.070      9.522      0.000       0.522       0.807\n",
       "==============================================================================\n",
       "Omnibus:                        1.212   Durbin-Watson:                   2.214\n",
       "Prob(Omnibus):                  0.546   Jarque-Bera (JB):                1.196\n",
       "Skew:                          -0.347   Prob(JB):                        0.550\n",
       "Kurtosis:                       2.438   Cond. No.                         184.\n",
       "==============================================================================\n",
       "\n",
       "Notes:\n",
       "[1] Standard Errors assume that the covariance matrix of the errors is correctly specified.\n",
       "\"\"\""
      ]
     },
     "execution_count": 5,
     "metadata": {},
     "output_type": "execute_result"
    }
   ],
   "source": [
    "model = smf.ols('y ~ age + TRT', data = dep).fit()\n",
    "model.summary()"
   ]
  },
  {
   "cell_type": "markdown",
   "metadata": {},
   "source": [
    "H0: There is no effectiveness in the depression therapies.\n",
    "H1: Depression therapy is effective.\n",
    "\n",
    "Because the p-value of each coefficient is less than 0.05, each regression coefficient is significant. This can be said to be effective in therapy.\n"
   ]
  },
  {
   "cell_type": "markdown",
   "metadata": {},
   "source": [
    "(2) 추정된 회귀식은 Y의 변동량의 몇 %를 설명하는가?"
   ]
  },
  {
   "cell_type": "markdown",
   "metadata": {},
   "source": [
    "R2: 0.784.\n",
    "therefore, The estimated regression expression accounts for 78.40% of the variation in Y."
   ]
  },
  {
   "cell_type": "markdown",
   "metadata": {},
   "source": [
    "(3) age에 대한 회귀계수가 유의한지 가설검정을 진행하시오. (귀무가설, 대립가설 제시)"
   ]
  },
  {
   "cell_type": "markdown",
   "metadata": {},
   "source": [
    "H0: Age is not significant for the regression.\n",
    "H1: Age is significant for the regression.\n",
    "\n",
    "Because the p-value of Age is less than 0.05, the variable is significant. But it should also be taken with carefulness. 유의하다"
   ]
  },
  {
   "cell_type": "markdown",
   "metadata": {},
   "source": [
    "(4) Age와 trt사이에 교호작용(상호작용)이 존재하는가? 가설검정을 통해 확인하시오."
   ]
  },
  {
   "cell_type": "code",
   "execution_count": 7,
   "metadata": {},
   "outputs": [
    {
     "data": {
      "text/html": [
       "<table class=\"simpletable\">\n",
       "<caption>OLS Regression Results</caption>\n",
       "<tr>\n",
       "  <th>Dep. Variable:</th>            <td>y</td>        <th>  R-squared:         </th> <td>   0.914</td>\n",
       "</tr>\n",
       "<tr>\n",
       "  <th>Model:</th>                   <td>OLS</td>       <th>  Adj. R-squared:    </th> <td>   0.900</td>\n",
       "</tr>\n",
       "<tr>\n",
       "  <th>Method:</th>             <td>Least Squares</td>  <th>  F-statistic:       </th> <td>   64.04</td>\n",
       "</tr>\n",
       "<tr>\n",
       "  <th>Date:</th>             <td>Wed, 16 Dec 2020</td> <th>  Prob (F-statistic):</th> <td>4.26e-15</td>\n",
       "</tr>\n",
       "<tr>\n",
       "  <th>Time:</th>                 <td>18:14:39</td>     <th>  Log-Likelihood:    </th> <td> -97.024</td>\n",
       "</tr>\n",
       "<tr>\n",
       "  <th>No. Observations:</th>      <td>    36</td>      <th>  AIC:               </th> <td>   206.0</td>\n",
       "</tr>\n",
       "<tr>\n",
       "  <th>Df Residuals:</th>          <td>    30</td>      <th>  BIC:               </th> <td>   215.5</td>\n",
       "</tr>\n",
       "<tr>\n",
       "  <th>Df Model:</th>              <td>     5</td>      <th>                     </th>     <td> </td>   \n",
       "</tr>\n",
       "<tr>\n",
       "  <th>Covariance Type:</th>      <td>nonrobust</td>    <th>                     </th>     <td> </td>   \n",
       "</tr>\n",
       "</table>\n",
       "<table class=\"simpletable\">\n",
       "<tr>\n",
       "        <td></td>          <th>coef</th>     <th>std err</th>      <th>t</th>      <th>P>|t|</th>  <th>[0.025</th>    <th>0.975]</th>  \n",
       "</tr>\n",
       "<tr>\n",
       "  <th>Intercept</th>    <td>   47.5156</td> <td>    3.825</td> <td>   12.422</td> <td> 0.000</td> <td>   39.703</td> <td>   55.328</td>\n",
       "</tr>\n",
       "<tr>\n",
       "  <th>TRT[T.B]</th>     <td>  -18.5974</td> <td>    5.416</td> <td>   -3.434</td> <td> 0.002</td> <td>  -29.658</td> <td>   -7.537</td>\n",
       "</tr>\n",
       "<tr>\n",
       "  <th>TRT[T.C]</th>     <td>  -41.3042</td> <td>    5.085</td> <td>   -8.124</td> <td> 0.000</td> <td>  -51.688</td> <td>  -30.920</td>\n",
       "</tr>\n",
       "<tr>\n",
       "  <th>age</th>          <td>    0.3305</td> <td>    0.081</td> <td>    4.056</td> <td> 0.000</td> <td>    0.164</td> <td>    0.497</td>\n",
       "</tr>\n",
       "<tr>\n",
       "  <th>age:TRT[T.B]</th> <td>    0.1932</td> <td>    0.117</td> <td>    1.657</td> <td> 0.108</td> <td>   -0.045</td> <td>    0.431</td>\n",
       "</tr>\n",
       "<tr>\n",
       "  <th>age:TRT[T.C]</th> <td>    0.7029</td> <td>    0.109</td> <td>    6.451</td> <td> 0.000</td> <td>    0.480</td> <td>    0.925</td>\n",
       "</tr>\n",
       "</table>\n",
       "<table class=\"simpletable\">\n",
       "<tr>\n",
       "  <th>Omnibus:</th>       <td> 2.593</td> <th>  Durbin-Watson:     </th> <td>   1.633</td>\n",
       "</tr>\n",
       "<tr>\n",
       "  <th>Prob(Omnibus):</th> <td> 0.273</td> <th>  Jarque-Bera (JB):  </th> <td>   1.475</td>\n",
       "</tr>\n",
       "<tr>\n",
       "  <th>Skew:</th>          <td>-0.183</td> <th>  Prob(JB):          </th> <td>   0.478</td>\n",
       "</tr>\n",
       "<tr>\n",
       "  <th>Kurtosis:</th>      <td> 2.079</td> <th>  Cond. No.          </th> <td>    577.</td>\n",
       "</tr>\n",
       "</table><br/><br/>Notes:<br/>[1] Standard Errors assume that the covariance matrix of the errors is correctly specified."
      ],
      "text/plain": [
       "<class 'statsmodels.iolib.summary.Summary'>\n",
       "\"\"\"\n",
       "                            OLS Regression Results                            \n",
       "==============================================================================\n",
       "Dep. Variable:                      y   R-squared:                       0.914\n",
       "Model:                            OLS   Adj. R-squared:                  0.900\n",
       "Method:                 Least Squares   F-statistic:                     64.04\n",
       "Date:                Wed, 16 Dec 2020   Prob (F-statistic):           4.26e-15\n",
       "Time:                        18:14:39   Log-Likelihood:                -97.024\n",
       "No. Observations:                  36   AIC:                             206.0\n",
       "Df Residuals:                      30   BIC:                             215.5\n",
       "Df Model:                           5                                         \n",
       "Covariance Type:            nonrobust                                         \n",
       "================================================================================\n",
       "                   coef    std err          t      P>|t|      [0.025      0.975]\n",
       "--------------------------------------------------------------------------------\n",
       "Intercept       47.5156      3.825     12.422      0.000      39.703      55.328\n",
       "TRT[T.B]       -18.5974      5.416     -3.434      0.002     -29.658      -7.537\n",
       "TRT[T.C]       -41.3042      5.085     -8.124      0.000     -51.688     -30.920\n",
       "age              0.3305      0.081      4.056      0.000       0.164       0.497\n",
       "age:TRT[T.B]     0.1932      0.117      1.657      0.108      -0.045       0.431\n",
       "age:TRT[T.C]     0.7029      0.109      6.451      0.000       0.480       0.925\n",
       "==============================================================================\n",
       "Omnibus:                        2.593   Durbin-Watson:                   1.633\n",
       "Prob(Omnibus):                  0.273   Jarque-Bera (JB):                1.475\n",
       "Skew:                          -0.183   Prob(JB):                        0.478\n",
       "Kurtosis:                       2.079   Cond. No.                         577.\n",
       "==============================================================================\n",
       "\n",
       "Notes:\n",
       "[1] Standard Errors assume that the covariance matrix of the errors is correctly specified.\n",
       "\"\"\""
      ]
     },
     "execution_count": 7,
     "metadata": {},
     "output_type": "execute_result"
    }
   ],
   "source": [
    "model2 = smf.ols('y ~ age + TRT + age*TRT', data = dep).fit()\n",
    "model2.summary()"
   ]
  },
  {
   "cell_type": "markdown",
   "metadata": {},
   "source": [
    "H0: There is no iteraction \n",
    "H1: There is iteraction\n",
    "\n",
    "because the p value for Age and tTRT-B is larger than 0.05,the null hypothesis cannot be rejected. In this case there is no apparent interaction.\n",
    "\n",
    "Nonetheless, the p value for age and TRT - C is less than 0.05, so we reject the null hypothesis and conclude that there is an iteraction effect"
   ]
  },
  {
   "cell_type": "markdown",
   "metadata": {},
   "source": [
    "(5) 치료요법 A,B,C 중 어느 것이 효과가 좋다고 할 수 있는가? (4)의 결과를 사용하여 서술하시오."
   ]
  },
  {
   "cell_type": "markdown",
   "metadata": {},
   "source": [
    "When \"age\" is fixed, on average it decreases by 18.59 when \"TRT-B\" is used relative to \"TRT-A\".\n",
    "\n",
    "The use of \"TRT-C\" is less effective than using \"TRTA\" because the interaction with \"age\" results in a larger reduction of 41.30. Therefore using treatment A is most effective (since is the reference level and the other two treatments are being compared to this one)."
   ]
  },
  {
   "cell_type": "markdown",
   "metadata": {},
   "source": [
    "2\\. 한 연구자는 대학원 지원자의 GRE(graduate record exam; gre) 점수, 학점(gpa), 학부 졸업대학의 랭킹(rank)이 합격여부(admit=1:합격, 0:불합격)에 미치는 영향을 알아보고자 하였다. 데이터는 `admission.csv`에 저장되어 있다. `admit`을 종속변수로, 나머지 변수를 설명변수로 사용하여 로지스틱 회귀모형을 적합하고 그 결과를 사용하여 아래 문항에 답하시오. "
   ]
  },
  {
   "cell_type": "code",
   "execution_count": 11,
   "metadata": {},
   "outputs": [],
   "source": [
    "gre = pd.read_csv(r\"C:/Users/MSI/Desktop/admission.csv\")"
   ]
  },
  {
   "cell_type": "code",
   "execution_count": 12,
   "metadata": {},
   "outputs": [
    {
     "data": {
      "text/html": [
       "<div>\n",
       "<style scoped>\n",
       "    .dataframe tbody tr th:only-of-type {\n",
       "        vertical-align: middle;\n",
       "    }\n",
       "\n",
       "    .dataframe tbody tr th {\n",
       "        vertical-align: top;\n",
       "    }\n",
       "\n",
       "    .dataframe thead th {\n",
       "        text-align: right;\n",
       "    }\n",
       "</style>\n",
       "<table border=\"1\" class=\"dataframe\">\n",
       "  <thead>\n",
       "    <tr style=\"text-align: right;\">\n",
       "      <th></th>\n",
       "      <th>admit</th>\n",
       "      <th>gre</th>\n",
       "      <th>gpa</th>\n",
       "      <th>rank</th>\n",
       "    </tr>\n",
       "  </thead>\n",
       "  <tbody>\n",
       "    <tr>\n",
       "      <th>0</th>\n",
       "      <td>0</td>\n",
       "      <td>380</td>\n",
       "      <td>3.61</td>\n",
       "      <td>3</td>\n",
       "    </tr>\n",
       "    <tr>\n",
       "      <th>1</th>\n",
       "      <td>1</td>\n",
       "      <td>660</td>\n",
       "      <td>3.67</td>\n",
       "      <td>3</td>\n",
       "    </tr>\n",
       "    <tr>\n",
       "      <th>2</th>\n",
       "      <td>1</td>\n",
       "      <td>800</td>\n",
       "      <td>4.00</td>\n",
       "      <td>1</td>\n",
       "    </tr>\n",
       "    <tr>\n",
       "      <th>3</th>\n",
       "      <td>1</td>\n",
       "      <td>640</td>\n",
       "      <td>3.19</td>\n",
       "      <td>4</td>\n",
       "    </tr>\n",
       "    <tr>\n",
       "      <th>4</th>\n",
       "      <td>0</td>\n",
       "      <td>520</td>\n",
       "      <td>2.93</td>\n",
       "      <td>4</td>\n",
       "    </tr>\n",
       "  </tbody>\n",
       "</table>\n",
       "</div>"
      ],
      "text/plain": [
       "   admit  gre   gpa  rank\n",
       "0      0  380  3.61     3\n",
       "1      1  660  3.67     3\n",
       "2      1  800  4.00     1\n",
       "3      1  640  3.19     4\n",
       "4      0  520  2.93     4"
      ]
     },
     "execution_count": 12,
     "metadata": {},
     "output_type": "execute_result"
    }
   ],
   "source": [
    "gre.head()"
   ]
  },
  {
   "cell_type": "code",
   "execution_count": 15,
   "metadata": {},
   "outputs": [
    {
     "data": {
      "text/html": [
       "<table class=\"simpletable\">\n",
       "<tr>\n",
       "      <td></td>         <th>coef</th>     <th>std err</th>      <th>z</th>      <th>P>|z|</th>  <th>[0.025</th>    <th>0.975]</th>  \n",
       "</tr>\n",
       "<tr>\n",
       "  <th>Intercept</th> <td>   -3.4495</td> <td>    1.133</td> <td>   -3.045</td> <td> 0.002</td> <td>   -5.670</td> <td>   -1.229</td>\n",
       "</tr>\n",
       "<tr>\n",
       "  <th>gre</th>       <td>    0.0023</td> <td>    0.001</td> <td>    2.101</td> <td> 0.036</td> <td>    0.000</td> <td>    0.004</td>\n",
       "</tr>\n",
       "<tr>\n",
       "  <th>gpa</th>       <td>    0.7770</td> <td>    0.327</td> <td>    2.373</td> <td> 0.018</td> <td>    0.135</td> <td>    1.419</td>\n",
       "</tr>\n",
       "<tr>\n",
       "  <th>rank</th>      <td>   -0.5600</td> <td>    0.127</td> <td>   -4.405</td> <td> 0.000</td> <td>   -0.809</td> <td>   -0.311</td>\n",
       "</tr>\n",
       "</table>"
      ],
      "text/plain": [
       "<class 'statsmodels.iolib.table.SimpleTable'>"
      ]
     },
     "execution_count": 15,
     "metadata": {},
     "output_type": "execute_result"
    }
   ],
   "source": [
    "model = smf.glm('admit~ gre+gpa+ rank', data = gre, family = sm.families.Binomial()).fit()\n",
    "model.summary().tables[1]"
   ]
  },
  {
   "cell_type": "markdown",
   "metadata": {},
   "source": [
    "(1) 이미 GRE점수를 받아놓은 한 지원자가 있다. 현재 학점이 3.5인데 계절학기 재수강을 하면 학점을 3.7로 올릴 수 있다. 만일 학점을 3.7로 올린다면 이 학생이 합격할 odds는 몇 % 상승하는가? "
   ]
  },
  {
   "cell_type": "code",
   "execution_count": 18,
   "metadata": {},
   "outputs": [
    {
     "data": {
      "text/plain": [
       "1.00045889716199"
      ]
     },
     "execution_count": 18,
     "metadata": {},
     "output_type": "execute_result"
    }
   ],
   "source": [
    "#GRE 3.7-3.5 = 0.2\n",
    "np.exp(model.params[1]*0.2)"
   ]
  },
  {
   "cell_type": "markdown",
   "metadata": {},
   "source": [
    "R: A 0.2 increase in **gre** score increases the acceptable odds by 0.045%."
   ]
  },
  {
   "cell_type": "markdown",
   "metadata": {},
   "source": [
    "####  (I think the question was directed to using the GPA because of the 3.7 and 3.5 values. In this case the solution is that a 0.2 increase in the GPA increases the acceptable odds by 22.95%  \n",
    "\n",
    "#### code:       np.exp(model.params[2]*0.2))"
   ]
  },
  {
   "cell_type": "markdown",
   "metadata": {},
   "source": [
    "(2) 만일 학점과 GRE점수가 동일한 두 학생이 각기 rank2 의 대학과 rank3의 대학을 졸업했다고 하자. Rank3에 속한 대학을 졸업한 학생에 비해 rank2에 속한 대학을 졸업한 학생의 합격 odds는 몇 % 증가하는가? "
   ]
  },
  {
   "cell_type": "code",
   "execution_count": 19,
   "metadata": {},
   "outputs": [],
   "source": [
    "#odds Rank 2 university (with gre and gpa constant)\n",
    "model2 = smf.glm('admit~ gre+gpa+ C(rank)', data = gre, family = sm.families.Binomial()).fit()"
   ]
  },
  {
   "cell_type": "code",
   "execution_count": 20,
   "metadata": {},
   "outputs": [
    {
     "data": {
      "text/plain": [
       "Intercept      -3.989979\n",
       "C(rank)[T.2]   -0.675443\n",
       "C(rank)[T.3]   -1.340204\n",
       "C(rank)[T.4]   -1.551464\n",
       "gre             0.002264\n",
       "gpa             0.804038\n",
       "dtype: float64"
      ]
     },
     "execution_count": 20,
     "metadata": {},
     "output_type": "execute_result"
    }
   ],
   "source": [
    "model2.params"
   ]
  },
  {
   "cell_type": "code",
   "execution_count": 21,
   "metadata": {},
   "outputs": [
    {
     "data": {
      "text/plain": [
       "0.5089309509281347"
      ]
     },
     "execution_count": 21,
     "metadata": {},
     "output_type": "execute_result"
    }
   ],
   "source": [
    "np.exp(model2.params[1])"
   ]
  },
  {
   "cell_type": "code",
   "execution_count": 22,
   "metadata": {},
   "outputs": [
    {
     "data": {
      "text/plain": [
       "49.10690490718653"
      ]
     },
     "execution_count": 22,
     "metadata": {},
     "output_type": "execute_result"
    }
   ],
   "source": [
    "#Rank 2 university porobability\n",
    "(1-np.exp(model2.params[1]))*100"
   ]
  },
  {
   "cell_type": "code",
   "execution_count": 24,
   "metadata": {},
   "outputs": [
    {
     "data": {
      "text/plain": [
       "0.26179227938011124"
      ]
     },
     "execution_count": 24,
     "metadata": {},
     "output_type": "execute_result"
    }
   ],
   "source": [
    "#odds Rank 3 university (with gre and gpa constant)\n",
    "np.exp(model2.params[2])"
   ]
  },
  {
   "cell_type": "code",
   "execution_count": 25,
   "metadata": {},
   "outputs": [
    {
     "data": {
      "text/plain": [
       "73.82077206198888"
      ]
     },
     "execution_count": 25,
     "metadata": {},
     "output_type": "execute_result"
    }
   ],
   "source": [
    "#Rank 3 university porobability\n",
    "(1-np.exp(model2.params[2]))*100"
   ]
  },
  {
   "cell_type": "markdown",
   "metadata": {},
   "source": [
    "The probability of entering Rank 2 university (mantaining other values constant) is of 49.11% and of entering rank 3 university is of 73.82%."
   ]
  },
  {
   "cell_type": "markdown",
   "metadata": {},
   "source": [
    "3\\. 한 연구자는 혈압(blood pressure)에 영향을 주는 요인을 파악하기 위해 20명으로부터 아래의 변수를 측정하였다. (`bloodpress.csv`)\n",
    "\n",
    "|  변수명      |   내용                                |\n",
    "|--------|-----------------------------------|\n",
    "| BP     | Blood pressure in mm Hg           |\n",
    "| Age    | age in years                      |\n",
    "| Weight | weight in kg                      |\n",
    "| BSA    | body surface area in sq m         |\n",
    "| Dur    | duration of hypertension in years |\n",
    "| Pulse  | basal pulse in beats per minute   |\n",
    "| Stress | stress index                      |"
   ]
  },
  {
   "cell_type": "code",
   "execution_count": 26,
   "metadata": {},
   "outputs": [],
   "source": [
    "bp = pd.read_csv(r\"C:/Users/MSI/Desktop/bloodpress.csv\")"
   ]
  },
  {
   "cell_type": "markdown",
   "metadata": {},
   "source": [
    "(1) BP를 종속변수로 하고 나머지 6개의 변수를 설명변수로 하는 선형회귀모형을 적합하고 VIF를 통해 다중공선성이 존재하는지 판단하시오. "
   ]
  },
  {
   "cell_type": "code",
   "execution_count": 32,
   "metadata": {},
   "outputs": [
    {
     "data": {
      "text/html": [
       "<table class=\"simpletable\">\n",
       "<caption>OLS Regression Results</caption>\n",
       "<tr>\n",
       "  <th>Dep. Variable:</th>           <td>BP</td>        <th>  R-squared:         </th> <td>   0.996</td>\n",
       "</tr>\n",
       "<tr>\n",
       "  <th>Model:</th>                   <td>OLS</td>       <th>  Adj. R-squared:    </th> <td>   0.994</td>\n",
       "</tr>\n",
       "<tr>\n",
       "  <th>Method:</th>             <td>Least Squares</td>  <th>  F-statistic:       </th> <td>   560.6</td>\n",
       "</tr>\n",
       "<tr>\n",
       "  <th>Date:</th>             <td>Wed, 16 Dec 2020</td> <th>  Prob (F-statistic):</th> <td>6.40e-15</td>\n",
       "</tr>\n",
       "<tr>\n",
       "  <th>Time:</th>                 <td>18:39:33</td>     <th>  Log-Likelihood:    </th> <td> -6.1033</td>\n",
       "</tr>\n",
       "<tr>\n",
       "  <th>No. Observations:</th>      <td>    20</td>      <th>  AIC:               </th> <td>   26.21</td>\n",
       "</tr>\n",
       "<tr>\n",
       "  <th>Df Residuals:</th>          <td>    13</td>      <th>  BIC:               </th> <td>   33.18</td>\n",
       "</tr>\n",
       "<tr>\n",
       "  <th>Df Model:</th>              <td>     6</td>      <th>                     </th>     <td> </td>   \n",
       "</tr>\n",
       "<tr>\n",
       "  <th>Covariance Type:</th>      <td>nonrobust</td>    <th>                     </th>     <td> </td>   \n",
       "</tr>\n",
       "</table>\n",
       "<table class=\"simpletable\">\n",
       "<tr>\n",
       "      <td></td>         <th>coef</th>     <th>std err</th>      <th>t</th>      <th>P>|t|</th>  <th>[0.025</th>    <th>0.975]</th>  \n",
       "</tr>\n",
       "<tr>\n",
       "  <th>Intercept</th> <td>  -12.8705</td> <td>    2.557</td> <td>   -5.034</td> <td> 0.000</td> <td>  -18.394</td> <td>   -7.347</td>\n",
       "</tr>\n",
       "<tr>\n",
       "  <th>Age</th>       <td>    0.7033</td> <td>    0.050</td> <td>   14.177</td> <td> 0.000</td> <td>    0.596</td> <td>    0.810</td>\n",
       "</tr>\n",
       "<tr>\n",
       "  <th>Weight</th>    <td>    0.9699</td> <td>    0.063</td> <td>   15.369</td> <td> 0.000</td> <td>    0.834</td> <td>    1.106</td>\n",
       "</tr>\n",
       "<tr>\n",
       "  <th>BSA</th>       <td>    3.7765</td> <td>    1.580</td> <td>    2.390</td> <td> 0.033</td> <td>    0.363</td> <td>    7.190</td>\n",
       "</tr>\n",
       "<tr>\n",
       "  <th>Dur</th>       <td>    0.0684</td> <td>    0.048</td> <td>    1.412</td> <td> 0.182</td> <td>   -0.036</td> <td>    0.173</td>\n",
       "</tr>\n",
       "<tr>\n",
       "  <th>Pulse</th>     <td>   -0.0845</td> <td>    0.052</td> <td>   -1.637</td> <td> 0.126</td> <td>   -0.196</td> <td>    0.027</td>\n",
       "</tr>\n",
       "<tr>\n",
       "  <th>Stress</th>    <td>    0.0056</td> <td>    0.003</td> <td>    1.633</td> <td> 0.126</td> <td>   -0.002</td> <td>    0.013</td>\n",
       "</tr>\n",
       "</table>\n",
       "<table class=\"simpletable\">\n",
       "<tr>\n",
       "  <th>Omnibus:</th>       <td> 7.219</td> <th>  Durbin-Watson:     </th> <td>   2.249</td>\n",
       "</tr>\n",
       "<tr>\n",
       "  <th>Prob(Omnibus):</th> <td> 0.027</td> <th>  Jarque-Bera (JB):  </th> <td>   4.643</td>\n",
       "</tr>\n",
       "<tr>\n",
       "  <th>Skew:</th>          <td>-1.050</td> <th>  Prob(JB):          </th> <td>  0.0981</td>\n",
       "</tr>\n",
       "<tr>\n",
       "  <th>Kurtosis:</th>      <td> 4.076</td> <th>  Cond. No.          </th> <td>4.02e+03</td>\n",
       "</tr>\n",
       "</table><br/><br/>Notes:<br/>[1] Standard Errors assume that the covariance matrix of the errors is correctly specified.<br/>[2] The condition number is large, 4.02e+03. This might indicate that there are<br/>strong multicollinearity or other numerical problems."
      ],
      "text/plain": [
       "<class 'statsmodels.iolib.summary.Summary'>\n",
       "\"\"\"\n",
       "                            OLS Regression Results                            \n",
       "==============================================================================\n",
       "Dep. Variable:                     BP   R-squared:                       0.996\n",
       "Model:                            OLS   Adj. R-squared:                  0.994\n",
       "Method:                 Least Squares   F-statistic:                     560.6\n",
       "Date:                Wed, 16 Dec 2020   Prob (F-statistic):           6.40e-15\n",
       "Time:                        18:39:33   Log-Likelihood:                -6.1033\n",
       "No. Observations:                  20   AIC:                             26.21\n",
       "Df Residuals:                      13   BIC:                             33.18\n",
       "Df Model:                           6                                         \n",
       "Covariance Type:            nonrobust                                         \n",
       "==============================================================================\n",
       "                 coef    std err          t      P>|t|      [0.025      0.975]\n",
       "------------------------------------------------------------------------------\n",
       "Intercept    -12.8705      2.557     -5.034      0.000     -18.394      -7.347\n",
       "Age            0.7033      0.050     14.177      0.000       0.596       0.810\n",
       "Weight         0.9699      0.063     15.369      0.000       0.834       1.106\n",
       "BSA            3.7765      1.580      2.390      0.033       0.363       7.190\n",
       "Dur            0.0684      0.048      1.412      0.182      -0.036       0.173\n",
       "Pulse         -0.0845      0.052     -1.637      0.126      -0.196       0.027\n",
       "Stress         0.0056      0.003      1.633      0.126      -0.002       0.013\n",
       "==============================================================================\n",
       "Omnibus:                        7.219   Durbin-Watson:                   2.249\n",
       "Prob(Omnibus):                  0.027   Jarque-Bera (JB):                4.643\n",
       "Skew:                          -1.050   Prob(JB):                       0.0981\n",
       "Kurtosis:                       4.076   Cond. No.                     4.02e+03\n",
       "==============================================================================\n",
       "\n",
       "Notes:\n",
       "[1] Standard Errors assume that the covariance matrix of the errors is correctly specified.\n",
       "[2] The condition number is large, 4.02e+03. This might indicate that there are\n",
       "strong multicollinearity or other numerical problems.\n",
       "\"\"\""
      ]
     },
     "execution_count": 32,
     "metadata": {},
     "output_type": "execute_result"
    }
   ],
   "source": [
    "formula = smf.ols('BP~Age +Weight+BSA+Dur+Pulse+Stress', data = bp).fit()\n",
    "formula.summary()"
   ]
  },
  {
   "cell_type": "code",
   "execution_count": 33,
   "metadata": {},
   "outputs": [
    {
     "name": "stdout",
     "output_type": "stream",
     "text": [
      "VIF of Intercept : 788.3076923918795\n",
      "VIF of Age : 1.7628067217672172\n",
      "VIF of Weight : 8.41703502963307\n",
      "VIF of BSA : 5.328751470118884\n",
      "VIF of Dur : 1.2373094205198356\n",
      "VIF of Pulse : 4.413575165597264\n",
      "VIF of Stress : 1.8348453242645855\n"
     ]
    }
   ],
   "source": [
    "import patsy\n",
    "y, X = patsy.dmatrices('BP~Age +Weight+BSA+Dur+Pulse+Stress', data = bp, return_type = \"matrix\" )\n",
    "from statsmodels.stats.outliers_influence import variance_inflation_factor\n",
    "for i, x in enumerate(X.design_info.column_names):\n",
    "    print( 'VIF of', x, ':', variance_inflation_factor(X, i))"
   ]
  },
  {
   "cell_type": "markdown",
   "metadata": {},
   "source": [
    "For this case, the variables \"dur\", \"Pulse\", \"Stress\" are no significative for the regression of the model. \n",
    "\n",
    "if VIF is greater than 5, then the explanatory variable is highly collinear with the other explanatory variables. In this case, Weight and BSA present multicolineality. With this, the parameter estimates  will have large standard errors."
   ]
  },
  {
   "cell_type": "markdown",
   "metadata": {},
   "source": [
    "(2) 설명변수 중 Age는 반드시 모형에 포함되어야 한다고 가정하자. Age와 또 다른 하나의 변수를 포함한 **설명변수가 2개**인 모든 모형들을 비교하여 BIC를 기준으로 최적의 모형을 찾고 적합된 결과물을 프린트하시오. "
   ]
  },
  {
   "cell_type": "code",
   "execution_count": 46,
   "metadata": {},
   "outputs": [],
   "source": [
    "import itertools\n",
    "import time\n",
    "import statsmodels.api as sm\n",
    "\n",
    "def processSubset(feature_set):\n",
    "    # Fit model on feature_set and calculate RSS\n",
    "#     X_model = sm.add_constant(X[list(feature_set)])\n",
    "    X_model = X[list(('Intercept',)+feature_set)]\n",
    "    model = sm.OLS(y, X_model)\n",
    "    regr = model.fit()\n",
    "    RSS = (regr.resid ** 2).sum()\n",
    "    return {\"model\":regr, \"RSS\":RSS, \"AIC\": regr.aic, \n",
    "            \"BIC\": regr.bic, \"adj_r2\": regr.rsquared_adj,\n",
    "           \"r2\":regr.rsquared }\n",
    "\n",
    "def getBest(k, best = \"AIC\"):\n",
    "    \n",
    "    tic = time.time()   \n",
    "    results = []\n",
    "    \n",
    "    for combo in itertools.combinations(X.columns[1:], k):\n",
    "        results.append(processSubset(combo))\n",
    "    \n",
    "    # Wrap everything up in a nice dataframe\n",
    "    models = pd.DataFrame(results)\n",
    "    \n",
    "    # Choose the model with the highest RSS\n",
    "    if best==\"adj_r2\" or best==\"r2\":\n",
    "        best_model = models.loc[models[best].argmax()]\n",
    "    else: \n",
    "        best_model = models.loc[models[best].argmin()]\n",
    "    \n",
    "    toc = time.time()\n",
    "    print(\"Processed\", models.shape[0], \"models on\", k, \"predictors in\", (toc-tic), \"seconds.\")\n",
    "    \n",
    "    # Return the best model, along with some other useful information about the model\n",
    "    return best_model"
   ]
  },
  {
   "cell_type": "code",
   "execution_count": 47,
   "metadata": {},
   "outputs": [],
   "source": [
    "import patsy\n",
    "y, X = patsy.dmatrices('BP~Age +BSA', data = bp, return_type = 'dataframe')"
   ]
  },
  {
   "cell_type": "code",
   "execution_count": 50,
   "metadata": {},
   "outputs": [
    {
     "name": "stdout",
     "output_type": "stream",
     "text": [
      "Processed 2 models on 1 predictors in 0.00500035285949707 seconds.\n"
     ]
    }
   ],
   "source": [
    "models1= pd.DataFrame(columns=[\"model\", \"RSS\",\"AIC\",\"BIC\",\"adj_r2\", \"r2\"])\n",
    "\n",
    "for i in range(1,X.shape[1]-1):\n",
    "    models1.loc[i] = getBest(i, best = \"BIC\")"
   ]
  },
  {
   "cell_type": "code",
   "execution_count": 51,
   "metadata": {},
   "outputs": [
    {
     "data": {
      "text/html": [
       "<div>\n",
       "<style scoped>\n",
       "    .dataframe tbody tr th:only-of-type {\n",
       "        vertical-align: middle;\n",
       "    }\n",
       "\n",
       "    .dataframe tbody tr th {\n",
       "        vertical-align: top;\n",
       "    }\n",
       "\n",
       "    .dataframe thead th {\n",
       "        text-align: right;\n",
       "    }\n",
       "</style>\n",
       "<table border=\"1\" class=\"dataframe\">\n",
       "  <thead>\n",
       "    <tr style=\"text-align: right;\">\n",
       "      <th></th>\n",
       "      <th>model</th>\n",
       "      <th>RSS</th>\n",
       "      <th>AIC</th>\n",
       "      <th>BIC</th>\n",
       "      <th>adj_r2</th>\n",
       "      <th>r2</th>\n",
       "    </tr>\n",
       "  </thead>\n",
       "  <tbody>\n",
       "    <tr>\n",
       "      <th>1</th>\n",
       "      <td>&lt;statsmodels.regression.linear_model.Regressio...</td>\n",
       "      <td>140.142123</td>\n",
       "      <td>99.696037</td>\n",
       "      <td>101.687502</td>\n",
       "      <td>0.735843</td>\n",
       "      <td>0.749746</td>\n",
       "    </tr>\n",
       "  </tbody>\n",
       "</table>\n",
       "</div>"
      ],
      "text/plain": [
       "                                               model         RSS        AIC  \\\n",
       "1  <statsmodels.regression.linear_model.Regressio...  140.142123  99.696037   \n",
       "\n",
       "          BIC    adj_r2        r2  \n",
       "1  101.687502  0.735843  0.749746  "
      ]
     },
     "execution_count": 51,
     "metadata": {},
     "output_type": "execute_result"
    }
   ],
   "source": [
    "models1"
   ]
  },
  {
   "cell_type": "code",
   "execution_count": 64,
   "metadata": {},
   "outputs": [],
   "source": [
    "import patsy\n",
    "y, X = patsy.dmatrices('BP~ Age+ Weight ', data = bp, return_type = 'dataframe')"
   ]
  },
  {
   "cell_type": "code",
   "execution_count": 65,
   "metadata": {},
   "outputs": [
    {
     "name": "stdout",
     "output_type": "stream",
     "text": [
      "Processed 2 models on 1 predictors in 0.006001710891723633 seconds.\n"
     ]
    }
   ],
   "source": [
    "models2= pd.DataFrame(columns=[\"model\", \"RSS\",\"AIC\",\"BIC\",\"adj_r2\", \"r2\"])\n",
    "\n",
    "for i in range(1,X.shape[1]-1):\n",
    "    models2.loc[i] = getBest(i, best = \"BIC\")"
   ]
  },
  {
   "cell_type": "code",
   "execution_count": 67,
   "metadata": {},
   "outputs": [
    {
     "data": {
      "text/html": [
       "<div>\n",
       "<style scoped>\n",
       "    .dataframe tbody tr th:only-of-type {\n",
       "        vertical-align: middle;\n",
       "    }\n",
       "\n",
       "    .dataframe tbody tr th {\n",
       "        vertical-align: top;\n",
       "    }\n",
       "\n",
       "    .dataframe thead th {\n",
       "        text-align: right;\n",
       "    }\n",
       "</style>\n",
       "<table border=\"1\" class=\"dataframe\">\n",
       "  <thead>\n",
       "    <tr style=\"text-align: right;\">\n",
       "      <th></th>\n",
       "      <th>model</th>\n",
       "      <th>RSS</th>\n",
       "      <th>AIC</th>\n",
       "      <th>BIC</th>\n",
       "      <th>adj_r2</th>\n",
       "      <th>r2</th>\n",
       "    </tr>\n",
       "  </thead>\n",
       "  <tbody>\n",
       "    <tr>\n",
       "      <th>1</th>\n",
       "      <td>&lt;statsmodels.regression.linear_model.Regressio...</td>\n",
       "      <td>54.528016</td>\n",
       "      <td>80.817188</td>\n",
       "      <td>82.808653</td>\n",
       "      <td>0.897219</td>\n",
       "      <td>0.902629</td>\n",
       "    </tr>\n",
       "  </tbody>\n",
       "</table>\n",
       "</div>"
      ],
      "text/plain": [
       "                                               model        RSS        AIC  \\\n",
       "1  <statsmodels.regression.linear_model.Regressio...  54.528016  80.817188   \n",
       "\n",
       "         BIC    adj_r2        r2  \n",
       "1  82.808653  0.897219  0.902629  "
      ]
     },
     "execution_count": 67,
     "metadata": {},
     "output_type": "execute_result"
    }
   ],
   "source": [
    "models2"
   ]
  },
  {
   "cell_type": "code",
   "execution_count": 56,
   "metadata": {},
   "outputs": [],
   "source": [
    "import patsy\n",
    "y, X = patsy.dmatrices('BP~ Age+ Dur ', data = bp, return_type = 'dataframe')"
   ]
  },
  {
   "cell_type": "code",
   "execution_count": 57,
   "metadata": {},
   "outputs": [
    {
     "name": "stdout",
     "output_type": "stream",
     "text": [
      "Processed 2 models on 1 predictors in 0.004999399185180664 seconds.\n"
     ]
    }
   ],
   "source": [
    "models3= pd.DataFrame(columns=[\"model\", \"RSS\",\"AIC\",\"BIC\",\"adj_r2\", \"r2\"])\n",
    "\n",
    "for i in range(1,X.shape[1]-1):\n",
    "    models3.loc[i] = getBest(i, best = \"BIC\")"
   ]
  },
  {
   "cell_type": "code",
   "execution_count": 59,
   "metadata": {},
   "outputs": [
    {
     "data": {
      "text/html": [
       "<div>\n",
       "<style scoped>\n",
       "    .dataframe tbody tr th:only-of-type {\n",
       "        vertical-align: middle;\n",
       "    }\n",
       "\n",
       "    .dataframe tbody tr th {\n",
       "        vertical-align: top;\n",
       "    }\n",
       "\n",
       "    .dataframe thead th {\n",
       "        text-align: right;\n",
       "    }\n",
       "</style>\n",
       "<table border=\"1\" class=\"dataframe\">\n",
       "  <thead>\n",
       "    <tr style=\"text-align: right;\">\n",
       "      <th></th>\n",
       "      <th>model</th>\n",
       "      <th>RSS</th>\n",
       "      <th>AIC</th>\n",
       "      <th>BIC</th>\n",
       "      <th>adj_r2</th>\n",
       "      <th>r2</th>\n",
       "    </tr>\n",
       "  </thead>\n",
       "  <tbody>\n",
       "    <tr>\n",
       "      <th>1</th>\n",
       "      <td>&lt;statsmodels.regression.linear_model.Regressio...</td>\n",
       "      <td>316.734007</td>\n",
       "      <td>116.004142</td>\n",
       "      <td>117.995607</td>\n",
       "      <td>0.402982</td>\n",
       "      <td>0.434404</td>\n",
       "    </tr>\n",
       "  </tbody>\n",
       "</table>\n",
       "</div>"
      ],
      "text/plain": [
       "                                               model         RSS         AIC  \\\n",
       "1  <statsmodels.regression.linear_model.Regressio...  316.734007  116.004142   \n",
       "\n",
       "          BIC    adj_r2        r2  \n",
       "1  117.995607  0.402982  0.434404  "
      ]
     },
     "execution_count": 59,
     "metadata": {},
     "output_type": "execute_result"
    }
   ],
   "source": [
    "models3"
   ]
  },
  {
   "cell_type": "code",
   "execution_count": 60,
   "metadata": {},
   "outputs": [],
   "source": [
    "import patsy\n",
    "y, X = patsy.dmatrices('BP~ Age+ Pulse ', data = bp, return_type = 'dataframe')"
   ]
  },
  {
   "cell_type": "code",
   "execution_count": 61,
   "metadata": {},
   "outputs": [
    {
     "name": "stdout",
     "output_type": "stream",
     "text": [
      "Processed 2 models on 1 predictors in 0.005999088287353516 seconds.\n"
     ]
    }
   ],
   "source": [
    "models4= pd.DataFrame(columns=[\"model\", \"RSS\",\"AIC\",\"BIC\",\"adj_r2\", \"r2\"])\n",
    "\n",
    "for i in range(1,X.shape[1]-1):\n",
    "    models4.loc[i] = getBest(i, best = \"BIC\")"
   ]
  },
  {
   "cell_type": "code",
   "execution_count": 63,
   "metadata": {},
   "outputs": [
    {
     "data": {
      "text/html": [
       "<div>\n",
       "<style scoped>\n",
       "    .dataframe tbody tr th:only-of-type {\n",
       "        vertical-align: middle;\n",
       "    }\n",
       "\n",
       "    .dataframe tbody tr th {\n",
       "        vertical-align: top;\n",
       "    }\n",
       "\n",
       "    .dataframe thead th {\n",
       "        text-align: right;\n",
       "    }\n",
       "</style>\n",
       "<table border=\"1\" class=\"dataframe\">\n",
       "  <thead>\n",
       "    <tr style=\"text-align: right;\">\n",
       "      <th></th>\n",
       "      <th>model</th>\n",
       "      <th>RSS</th>\n",
       "      <th>AIC</th>\n",
       "      <th>BIC</th>\n",
       "      <th>adj_r2</th>\n",
       "      <th>r2</th>\n",
       "    </tr>\n",
       "  </thead>\n",
       "  <tbody>\n",
       "    <tr>\n",
       "      <th>1</th>\n",
       "      <td>&lt;statsmodels.regression.linear_model.Regressio...</td>\n",
       "      <td>268.555313</td>\n",
       "      <td>112.704034</td>\n",
       "      <td>114.695498</td>\n",
       "      <td>0.493795</td>\n",
       "      <td>0.520437</td>\n",
       "    </tr>\n",
       "  </tbody>\n",
       "</table>\n",
       "</div>"
      ],
      "text/plain": [
       "                                               model         RSS         AIC  \\\n",
       "1  <statsmodels.regression.linear_model.Regressio...  268.555313  112.704034   \n",
       "\n",
       "          BIC    adj_r2        r2  \n",
       "1  114.695498  0.493795  0.520437  "
      ]
     },
     "execution_count": 63,
     "metadata": {},
     "output_type": "execute_result"
    }
   ],
   "source": [
    "models4"
   ]
  },
  {
   "cell_type": "code",
   "execution_count": 68,
   "metadata": {},
   "outputs": [],
   "source": [
    "import patsy\n",
    "y, X = patsy.dmatrices('BP~ Age+ Pulse ', data = bp, return_type = 'dataframe')"
   ]
  },
  {
   "cell_type": "code",
   "execution_count": 69,
   "metadata": {},
   "outputs": [
    {
     "name": "stdout",
     "output_type": "stream",
     "text": [
      "Processed 2 models on 1 predictors in 0.005035877227783203 seconds.\n"
     ]
    }
   ],
   "source": [
    "models5= pd.DataFrame(columns=[\"model\", \"RSS\",\"AIC\",\"BIC\",\"adj_r2\", \"r2\"])\n",
    "\n",
    "for i in range(1,X.shape[1]-1):\n",
    "    models5.loc[i] = getBest(i, best = \"BIC\")"
   ]
  },
  {
   "cell_type": "code",
   "execution_count": 71,
   "metadata": {},
   "outputs": [
    {
     "data": {
      "text/html": [
       "<div>\n",
       "<style scoped>\n",
       "    .dataframe tbody tr th:only-of-type {\n",
       "        vertical-align: middle;\n",
       "    }\n",
       "\n",
       "    .dataframe tbody tr th {\n",
       "        vertical-align: top;\n",
       "    }\n",
       "\n",
       "    .dataframe thead th {\n",
       "        text-align: right;\n",
       "    }\n",
       "</style>\n",
       "<table border=\"1\" class=\"dataframe\">\n",
       "  <thead>\n",
       "    <tr style=\"text-align: right;\">\n",
       "      <th></th>\n",
       "      <th>model</th>\n",
       "      <th>RSS</th>\n",
       "      <th>AIC</th>\n",
       "      <th>BIC</th>\n",
       "      <th>adj_r2</th>\n",
       "      <th>r2</th>\n",
       "    </tr>\n",
       "  </thead>\n",
       "  <tbody>\n",
       "    <tr>\n",
       "      <th>1</th>\n",
       "      <td>&lt;statsmodels.regression.linear_model.Regressio...</td>\n",
       "      <td>268.555313</td>\n",
       "      <td>112.704034</td>\n",
       "      <td>114.695498</td>\n",
       "      <td>0.493795</td>\n",
       "      <td>0.520437</td>\n",
       "    </tr>\n",
       "  </tbody>\n",
       "</table>\n",
       "</div>"
      ],
      "text/plain": [
       "                                               model         RSS         AIC  \\\n",
       "1  <statsmodels.regression.linear_model.Regressio...  268.555313  112.704034   \n",
       "\n",
       "          BIC    adj_r2        r2  \n",
       "1  114.695498  0.493795  0.520437  "
      ]
     },
     "execution_count": 71,
     "metadata": {},
     "output_type": "execute_result"
    }
   ],
   "source": [
    "models5"
   ]
  },
  {
   "cell_type": "markdown",
   "metadata": {},
   "source": [
    "The smallest BIC value is for the Age and Weight pair with a 82.81 BIC value"
   ]
  },
  {
   "cell_type": "code",
   "execution_count": 73,
   "metadata": {},
   "outputs": [
    {
     "data": {
      "text/html": [
       "<table class=\"simpletable\">\n",
       "<caption>OLS Regression Results</caption>\n",
       "<tr>\n",
       "  <th>Dep. Variable:</th>           <td>BP</td>        <th>  R-squared:         </th> <td>   0.991</td>\n",
       "</tr>\n",
       "<tr>\n",
       "  <th>Model:</th>                   <td>OLS</td>       <th>  Adj. R-squared:    </th> <td>   0.990</td>\n",
       "</tr>\n",
       "<tr>\n",
       "  <th>Method:</th>             <td>Least Squares</td>  <th>  F-statistic:       </th> <td>   978.2</td>\n",
       "</tr>\n",
       "<tr>\n",
       "  <th>Date:</th>             <td>Wed, 16 Dec 2020</td> <th>  Prob (F-statistic):</th> <td>2.81e-18</td>\n",
       "</tr>\n",
       "<tr>\n",
       "  <th>Time:</th>                 <td>19:26:09</td>     <th>  Log-Likelihood:    </th> <td> -14.157</td>\n",
       "</tr>\n",
       "<tr>\n",
       "  <th>No. Observations:</th>      <td>    20</td>      <th>  AIC:               </th> <td>   34.31</td>\n",
       "</tr>\n",
       "<tr>\n",
       "  <th>Df Residuals:</th>          <td>    17</td>      <th>  BIC:               </th> <td>   37.30</td>\n",
       "</tr>\n",
       "<tr>\n",
       "  <th>Df Model:</th>              <td>     2</td>      <th>                     </th>     <td> </td>   \n",
       "</tr>\n",
       "<tr>\n",
       "  <th>Covariance Type:</th>      <td>nonrobust</td>    <th>                     </th>     <td> </td>   \n",
       "</tr>\n",
       "</table>\n",
       "<table class=\"simpletable\">\n",
       "<tr>\n",
       "      <td></td>         <th>coef</th>     <th>std err</th>      <th>t</th>      <th>P>|t|</th>  <th>[0.025</th>    <th>0.975]</th>  \n",
       "</tr>\n",
       "<tr>\n",
       "  <th>Intercept</th> <td>  -16.5794</td> <td>    3.007</td> <td>   -5.513</td> <td> 0.000</td> <td>  -22.925</td> <td>  -10.234</td>\n",
       "</tr>\n",
       "<tr>\n",
       "  <th>Age</th>       <td>    0.7083</td> <td>    0.054</td> <td>   13.235</td> <td> 0.000</td> <td>    0.595</td> <td>    0.821</td>\n",
       "</tr>\n",
       "<tr>\n",
       "  <th>Weight</th>    <td>    1.0330</td> <td>    0.031</td> <td>   33.154</td> <td> 0.000</td> <td>    0.967</td> <td>    1.099</td>\n",
       "</tr>\n",
       "</table>\n",
       "<table class=\"simpletable\">\n",
       "<tr>\n",
       "  <th>Omnibus:</th>       <td> 0.989</td> <th>  Durbin-Watson:     </th> <td>   1.688</td>\n",
       "</tr>\n",
       "<tr>\n",
       "  <th>Prob(Omnibus):</th> <td> 0.610</td> <th>  Jarque-Bera (JB):  </th> <td>   0.768</td>\n",
       "</tr>\n",
       "<tr>\n",
       "  <th>Skew:</th>          <td> 0.101</td> <th>  Prob(JB):          </th> <td>   0.681</td>\n",
       "</tr>\n",
       "<tr>\n",
       "  <th>Kurtosis:</th>      <td> 2.061</td> <th>  Cond. No.          </th> <td>2.65e+03</td>\n",
       "</tr>\n",
       "</table><br/><br/>Notes:<br/>[1] Standard Errors assume that the covariance matrix of the errors is correctly specified.<br/>[2] The condition number is large, 2.65e+03. This might indicate that there are<br/>strong multicollinearity or other numerical problems."
      ],
      "text/plain": [
       "<class 'statsmodels.iolib.summary.Summary'>\n",
       "\"\"\"\n",
       "                            OLS Regression Results                            \n",
       "==============================================================================\n",
       "Dep. Variable:                     BP   R-squared:                       0.991\n",
       "Model:                            OLS   Adj. R-squared:                  0.990\n",
       "Method:                 Least Squares   F-statistic:                     978.2\n",
       "Date:                Wed, 16 Dec 2020   Prob (F-statistic):           2.81e-18\n",
       "Time:                        19:26:09   Log-Likelihood:                -14.157\n",
       "No. Observations:                  20   AIC:                             34.31\n",
       "Df Residuals:                      17   BIC:                             37.30\n",
       "Df Model:                           2                                         \n",
       "Covariance Type:            nonrobust                                         \n",
       "==============================================================================\n",
       "                 coef    std err          t      P>|t|      [0.025      0.975]\n",
       "------------------------------------------------------------------------------\n",
       "Intercept    -16.5794      3.007     -5.513      0.000     -22.925     -10.234\n",
       "Age            0.7083      0.054     13.235      0.000       0.595       0.821\n",
       "Weight         1.0330      0.031     33.154      0.000       0.967       1.099\n",
       "==============================================================================\n",
       "Omnibus:                        0.989   Durbin-Watson:                   1.688\n",
       "Prob(Omnibus):                  0.610   Jarque-Bera (JB):                0.768\n",
       "Skew:                           0.101   Prob(JB):                        0.681\n",
       "Kurtosis:                       2.061   Cond. No.                     2.65e+03\n",
       "==============================================================================\n",
       "\n",
       "Notes:\n",
       "[1] Standard Errors assume that the covariance matrix of the errors is correctly specified.\n",
       "[2] The condition number is large, 2.65e+03. This might indicate that there are\n",
       "strong multicollinearity or other numerical problems.\n",
       "\"\"\""
      ]
     },
     "execution_count": 73,
     "metadata": {},
     "output_type": "execute_result"
    }
   ],
   "source": [
    "model = smf.ols('BP~ Age + Weight', data = bp).fit()\n",
    "model.summary()"
   ]
  },
  {
   "cell_type": "code",
   "execution_count": 74,
   "metadata": {},
   "outputs": [],
   "source": [
    "formula2 =('BP~ Age + Weight')"
   ]
  },
  {
   "cell_type": "code",
   "execution_count": 75,
   "metadata": {},
   "outputs": [
    {
     "name": "stdout",
     "output_type": "stream",
     "text": [
      "VIF of Intercept : 637.4961503521716\n",
      "VIF of Age : 1.1989450542463735\n",
      "VIF of Weight : 1.1989450542463729\n"
     ]
    }
   ],
   "source": [
    "import patsy\n",
    "y, X = patsy.dmatrices(formula2, bp, return_type='matrix')\n",
    "from statsmodels.stats.outliers_influence import variance_inflation_factor\n",
    "for i, x in enumerate(X.design_info.column_names):\n",
    "    print( 'VIF of', x, ':', variance_inflation_factor(X, i))"
   ]
  },
  {
   "cell_type": "code",
   "execution_count": null,
   "metadata": {},
   "outputs": [],
   "source": []
  }
 ],
 "metadata": {
  "kernelspec": {
   "display_name": "Python 3",
   "language": "python",
   "name": "python3"
  },
  "language_info": {
   "codemirror_mode": {
    "name": "ipython",
    "version": 3
   },
   "file_extension": ".py",
   "mimetype": "text/x-python",
   "name": "python",
   "nbconvert_exporter": "python",
   "pygments_lexer": "ipython3",
   "version": "3.7.9"
  }
 },
 "nbformat": 4,
 "nbformat_minor": 4
}
