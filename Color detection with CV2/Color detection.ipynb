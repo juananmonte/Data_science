{
 "cells": [
  {
   "cell_type": "markdown",
   "id": "131c41f2",
   "metadata": {},
   "source": [
    "# <span style=\"color:green\"> Import the essentials </span>"
   ]
  },
  {
   "cell_type": "code",
   "execution_count": 19,
   "id": "d771ea63",
   "metadata": {
    "ExecuteTime": {
     "end_time": "2021-06-23T13:42:04.252702Z",
     "start_time": "2021-06-23T13:42:04.234729Z"
    }
   },
   "outputs": [],
   "source": [
    "#The essentials\n",
    "import pandas\n",
    "import numpy\n",
    "import cv2"
   ]
  },
  {
   "cell_type": "markdown",
   "id": "4b04a003",
   "metadata": {},
   "source": [
    "# <span style=\"color:green\"> Read and see the image </span>"
   ]
  },
  {
   "cell_type": "code",
   "execution_count": 20,
   "id": "45bc9f4f",
   "metadata": {
    "ExecuteTime": {
     "end_time": "2021-06-23T13:42:05.173427Z",
     "start_time": "2021-06-23T13:42:04.872243Z"
    }
   },
   "outputs": [],
   "source": [
    "img_path = 'D:/Data Science projects/python/Projects/Colors/colorpic.jpg'\n",
    "img = cv2.imread(img_path)\n",
    "\n",
    "cv2.imshow('colors', img)\n",
    "cv2.waitKey(0)\n",
    "cv2.destroyAllWindows()"
   ]
  },
  {
   "cell_type": "code",
   "execution_count": 21,
   "id": "5f7b28a3",
   "metadata": {
    "ExecuteTime": {
     "end_time": "2021-06-23T13:42:05.728209Z",
     "start_time": "2021-06-23T13:42:05.710211Z"
    }
   },
   "outputs": [],
   "source": [
    "clicked = False\n",
    "r = g = b = xpos = ypos = 0"
   ]
  },
  {
   "cell_type": "markdown",
   "id": "9963cb55",
   "metadata": {},
   "source": [
    "# <span style=\"color:green\"> Read the .csv with the colors </span>"
   ]
  },
  {
   "cell_type": "code",
   "execution_count": 22,
   "id": "d5cfd929",
   "metadata": {
    "ExecuteTime": {
     "end_time": "2021-06-23T13:42:07.340549Z",
     "start_time": "2021-06-23T13:42:06.759780Z"
    }
   },
   "outputs": [],
   "source": [
    "#Since the csv doesn't have headers, let's put some\n",
    "\n",
    "path = 'https://raw.githubusercontent.com/codebrainz/color-names/master/output/colors.csv'\n",
    "colors_csv = pd.read_csv(path, names=[\"color\", \"color_name\", \"hex\", \"R\", \"G\", \"B\"], header=None)"
   ]
  },
  {
   "cell_type": "code",
   "execution_count": 23,
   "id": "109b0fe6",
   "metadata": {
    "ExecuteTime": {
     "end_time": "2021-06-23T13:42:07.639560Z",
     "start_time": "2021-06-23T13:42:07.610559Z"
    }
   },
   "outputs": [
    {
     "data": {
      "text/html": [
       "<div>\n",
       "<style scoped>\n",
       "    .dataframe tbody tr th:only-of-type {\n",
       "        vertical-align: middle;\n",
       "    }\n",
       "\n",
       "    .dataframe tbody tr th {\n",
       "        vertical-align: top;\n",
       "    }\n",
       "\n",
       "    .dataframe thead th {\n",
       "        text-align: right;\n",
       "    }\n",
       "</style>\n",
       "<table border=\"1\" class=\"dataframe\">\n",
       "  <thead>\n",
       "    <tr style=\"text-align: right;\">\n",
       "      <th></th>\n",
       "      <th>color</th>\n",
       "      <th>color_name</th>\n",
       "      <th>hex</th>\n",
       "      <th>R</th>\n",
       "      <th>G</th>\n",
       "      <th>B</th>\n",
       "    </tr>\n",
       "  </thead>\n",
       "  <tbody>\n",
       "    <tr>\n",
       "      <th>0</th>\n",
       "      <td>air_force_blue_raf</td>\n",
       "      <td>Air Force Blue (Raf)</td>\n",
       "      <td>#5d8aa8</td>\n",
       "      <td>93</td>\n",
       "      <td>138</td>\n",
       "      <td>168</td>\n",
       "    </tr>\n",
       "    <tr>\n",
       "      <th>1</th>\n",
       "      <td>air_force_blue_usaf</td>\n",
       "      <td>Air Force Blue (Usaf)</td>\n",
       "      <td>#00308f</td>\n",
       "      <td>0</td>\n",
       "      <td>48</td>\n",
       "      <td>143</td>\n",
       "    </tr>\n",
       "    <tr>\n",
       "      <th>2</th>\n",
       "      <td>air_superiority_blue</td>\n",
       "      <td>Air Superiority Blue</td>\n",
       "      <td>#72a0c1</td>\n",
       "      <td>114</td>\n",
       "      <td>160</td>\n",
       "      <td>193</td>\n",
       "    </tr>\n",
       "    <tr>\n",
       "      <th>3</th>\n",
       "      <td>alabama_crimson</td>\n",
       "      <td>Alabama Crimson</td>\n",
       "      <td>#a32638</td>\n",
       "      <td>163</td>\n",
       "      <td>38</td>\n",
       "      <td>56</td>\n",
       "    </tr>\n",
       "    <tr>\n",
       "      <th>4</th>\n",
       "      <td>alice_blue</td>\n",
       "      <td>Alice Blue</td>\n",
       "      <td>#f0f8ff</td>\n",
       "      <td>240</td>\n",
       "      <td>248</td>\n",
       "      <td>255</td>\n",
       "    </tr>\n",
       "    <tr>\n",
       "      <th>5</th>\n",
       "      <td>alizarin_crimson</td>\n",
       "      <td>Alizarin Crimson</td>\n",
       "      <td>#e32636</td>\n",
       "      <td>227</td>\n",
       "      <td>38</td>\n",
       "      <td>54</td>\n",
       "    </tr>\n",
       "  </tbody>\n",
       "</table>\n",
       "</div>"
      ],
      "text/plain": [
       "                  color             color_name      hex    R    G    B\n",
       "0    air_force_blue_raf   Air Force Blue (Raf)  #5d8aa8   93  138  168\n",
       "1   air_force_blue_usaf  Air Force Blue (Usaf)  #00308f    0   48  143\n",
       "2  air_superiority_blue   Air Superiority Blue  #72a0c1  114  160  193\n",
       "3       alabama_crimson        Alabama Crimson  #a32638  163   38   56\n",
       "4            alice_blue             Alice Blue  #f0f8ff  240  248  255\n",
       "5      alizarin_crimson       Alizarin Crimson  #e32636  227   38   54"
      ]
     },
     "execution_count": 23,
     "metadata": {},
     "output_type": "execute_result"
    }
   ],
   "source": [
    "colors_csv.head(6)"
   ]
  },
  {
   "cell_type": "markdown",
   "id": "3437d619",
   "metadata": {},
   "source": [
    "# <span style=\"color:green\"> distance to get color name </span>"
   ]
  },
  {
   "cell_type": "markdown",
   "id": "a950c46b",
   "metadata": {},
   "source": [
    "``` We use the formula```\n",
    "> d = abs(Red – ithRedColor) + (Green – ithGreenColor) + (Blue – ithBlueColor)\n",
    "\n",
    "```to have the distance (d) to a certain combination of RGB colors (that we defined before with the draw function). To decide which color it should be, we go with the lowest value of the equation```"
   ]
  },
  {
   "cell_type": "code",
   "execution_count": 24,
   "id": "e3c08ab4",
   "metadata": {
    "ExecuteTime": {
     "end_time": "2021-06-23T13:42:09.146647Z",
     "start_time": "2021-06-23T13:42:09.140630Z"
    }
   },
   "outputs": [],
   "source": [
    "def getColorName(R,G,B):\n",
    "    minimum = 10000 #the minimum value to decide for \n",
    "    for i in range(len(colors_csv)): #for every color get the value of each row from the respective RGB column\n",
    "        d = abs(R- int(colors_csv.loc[i,\"R\"])) + abs(G- int(colors_csv.loc[i,\"G\"]))+ abs(B- int(colors_csv.loc[i,\"B\"])) \n",
    "        if(d<=minimum):\n",
    "            minimum = d #if the values match, get the name of the color from the colors_cvs\n",
    "            cname = colors_csv.loc[i,\"color_name\"] #get the name of the color and return it\n",
    "    return cname"
   ]
  },
  {
   "cell_type": "markdown",
   "id": "ff48b747",
   "metadata": {},
   "source": [
    "# <span style=\"color:green\"> Set a mouse callback event on a window </span>"
   ]
  },
  {
   "cell_type": "code",
   "execution_count": 25,
   "id": "28c8e0eb",
   "metadata": {
    "ExecuteTime": {
     "end_time": "2021-06-23T13:42:18.466722Z",
     "start_time": "2021-06-23T13:42:10.581945Z"
    }
   },
   "outputs": [],
   "source": [
    "#before setting this, a draw function is needed. This to calculate the rgb values of the pixel which we double click\n",
    "def draw_function(event,x,y,flags,param):\n",
    "    if event == cv2.EVENT_LBUTTONDBLCLK:\n",
    "        global b,g,r,xpos,ypos, clicked #change the varaibles values outsiede the function\n",
    "        clicked = True\n",
    "        xpos = x\n",
    "        ypos = y\n",
    "        b,g,r = img[y,x]\n",
    "        b = int(b)\n",
    "        g = int(g)\n",
    "        r = int(r)\n",
    "cv2.namedWindow('color detection by programming_fever')\n",
    "cv2.setMouseCallback('color detection by programming_fever',draw_function)\n",
    "\n",
    "#-------------Display image on the window\n",
    "\n",
    "while(1):\n",
    "\n",
    "    cv2.imshow(\"color detection by programming_fever\",img)\n",
    "    if (clicked):\n",
    "   \n",
    "        #cv2.rectangle(image, startpoint, endpoint, color, thickness)-1 fills entire rectangle \n",
    "        cv2.rectangle(img,(20,20), (750,60), (b,g,r), -1)\n",
    "\n",
    "        #Creating text string to display( Color name and RGB values )\n",
    "        text = getColorName(r,g,b) + ' R='+ str(r) +  ' G='+ str(g) +  ' B='+ str(b)\n",
    "        \n",
    "        #cv2.putText(img,text,start,font(0-7),fontScale,color,thickness,lineType )\n",
    "        cv2.putText(img, text,(50,50),2,0.8,(255,255,255),2,cv2.LINE_AA)\n",
    "\n",
    "        #For very light colours we will display text in black colour\n",
    "        if(r+g+b>=600):\n",
    "            cv2.putText(img, text,(50,50),2,0.8,(0,0,0),2,cv2.LINE_AA)\n",
    "            \n",
    "        clicked=False\n",
    "\n",
    "    if cv2.waitKey(20) & 0xFF ==27:\n",
    "        break\n",
    "    \n",
    "cv2.destroyAllWindows()"
   ]
  },
  {
   "cell_type": "code",
   "execution_count": null,
   "id": "e8895808",
   "metadata": {},
   "outputs": [],
   "source": []
  }
 ],
 "metadata": {
  "kernelspec": {
   "display_name": "Python 3.7 (tf-latest)",
   "language": "python",
   "name": "tf-latest"
  },
  "language_info": {
   "codemirror_mode": {
    "name": "ipython",
    "version": 3
   },
   "file_extension": ".py",
   "mimetype": "text/x-python",
   "name": "python",
   "nbconvert_exporter": "python",
   "pygments_lexer": "ipython3",
   "version": "3.8.8"
  },
  "toc": {
   "base_numbering": 1,
   "nav_menu": {},
   "number_sections": true,
   "sideBar": true,
   "skip_h1_title": false,
   "title_cell": "Table of Contents",
   "title_sidebar": "Contents",
   "toc_cell": false,
   "toc_position": {},
   "toc_section_display": true,
   "toc_window_display": false
  },
  "varInspector": {
   "cols": {
    "lenName": 16,
    "lenType": 16,
    "lenVar": 40
   },
   "kernels_config": {
    "python": {
     "delete_cmd_postfix": "",
     "delete_cmd_prefix": "del ",
     "library": "var_list.py",
     "varRefreshCmd": "print(var_dic_list())"
    },
    "r": {
     "delete_cmd_postfix": ") ",
     "delete_cmd_prefix": "rm(",
     "library": "var_list.r",
     "varRefreshCmd": "cat(var_dic_list()) "
    }
   },
   "types_to_exclude": [
    "module",
    "function",
    "builtin_function_or_method",
    "instance",
    "_Feature"
   ],
   "window_display": false
  }
 },
 "nbformat": 4,
 "nbformat_minor": 5
}
